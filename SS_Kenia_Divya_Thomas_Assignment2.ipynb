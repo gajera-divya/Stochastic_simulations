{
 "cells": [
  {
   "cell_type": "markdown",
   "metadata": {},
   "source": [
    "# DES Simulation"
   ]
  },
  {
   "cell_type": "markdown",
   "metadata": {},
   "source": [
    "This notebook generates the results used in the report for the second assignment of the course 'Stochastic Simulation'.\n",
    "\n",
    "Authors:\n",
    "\n",
    "1. Divyaben Hasmukhbhai Gajera\n",
    "- Affiliation: MSc Computational Science, University of Amsterdam\n",
    "- Email: divya.gajera@student.uva.nl\n",
    "- Student Number: 14932644\n",
    "\n",
    "2. K. López\n",
    "- Affiliation: MSc Computational Science, University of Amsterdam\n",
    "- Email: kenia.lopez.sotomayor@student.uva.nl\n",
    "- Student Number: 12965081\n",
    "\n",
    "3. T. P. Glansdorp\n",
    "- Affiliation: MSc Computational Science, University of Amsterdam\n",
    "- Email: thomas.glansdorp@student.uva.nl\n",
    "- Student Number: 12748587"
   ]
  },
  {
   "cell_type": "code",
   "execution_count": 34,
   "metadata": {},
   "outputs": [],
   "source": [
    "import simpy as sp\n",
    "import numpy as np\n",
    "import matplotlib.pyplot as plt\n",
    "import random\n",
    "import queue"
   ]
  },
  {
   "cell_type": "markdown",
   "metadata": {},
   "source": [
    "## DES program that implements FIFO scheduling case"
   ]
  },
  {
   "cell_type": "code",
   "execution_count": 96,
   "metadata": {},
   "outputs": [],
   "source": [
    "class MMnFIFOQueue:\n",
    "    def __init__(self, env, arrival_rate, service_rate, n):\n",
    "        self.env = env\n",
    "        self.server = sp.Resource(env, capacity=n)\n",
    "        self.arrival_rate = arrival_rate\n",
    "        self.service_rate = service_rate\n",
    "        self.queue = []\n",
    "\n",
    "        env.process(self.arrive())\n",
    "        \n",
    "\n",
    "    def arrive(self):\n",
    "        customer_count = 0\n",
    "        while True:\n",
    "            inter_arrival_time = random.expovariate(self.arrival_rate)\n",
    "            yield self.env.timeout(inter_arrival_time)\n",
    "            self.queue.append(self.env.now)\n",
    "            customer_count += 1\n",
    "            self.env.process(self.depart(customer_count))\n",
    "            print(f\"Customer {customer_count} arrived at {self.env.now}\")\n",
    "\n",
    "            \n",
    "    def depart(self, customer_count):\n",
    "        print(self.queue)\n",
    "        with self.server.request() as request:\n",
    "            yield request\n",
    "            service_time = random.expovariate(self.service_rate)\n",
    "            yield self.env.timeout(service_time)\n",
    "            self.queue.pop(0)\n",
    "            print(f\"Customer {customer_count} departed at {self.env.now} with wait_time of {service_time}\")\n",
    "\n",
    "\n",
    "def run_MMn_FIFO_queue(arrival_rate, service_rate, n, simulation_time):\n",
    "    env = sp.Environment()\n",
    "    mmn_queue = MMnFIFOQueue(env, arrival_rate, service_rate, n)\n",
    "    env.run(until=simulation_time)\n"
   ]
  },
  {
   "cell_type": "code",
   "execution_count": 97,
   "metadata": {},
   "outputs": [
    {
     "name": "stdout",
     "output_type": "stream",
     "text": [
      "Customer 1 arrived at 1.1031092715306303\n",
      "[1.1031092715306303]\n",
      "Customer 2 arrived at 1.2700232264634765\n",
      "[1.1031092715306303, 1.2700232264634765]\n",
      "Customer 2 departed at 1.2946491980845236 with wait_time of 0.024625971621047155\n",
      "Customer 3 arrived at 1.3379541421687091\n",
      "[1.2700232264634765, 1.3379541421687091]\n",
      "Customer 1 departed at 1.3621056321428375 with wait_time of 0.25899636061220715\n",
      "Customer 4 arrived at 1.3693797031676418\n",
      "[1.3379541421687091, 1.3693797031676418]\n",
      "Customer 4 departed at 1.4111208007265923 with wait_time of 0.041741097558950495\n",
      "Customer 3 departed at 1.7173676497368666 with wait_time of 0.37941350756815745\n",
      "Customer 5 arrived at 2.986798564406796\n",
      "[2.986798564406796]\n",
      "Customer 5 departed at 3.0565571232605255 with wait_time of 0.06975855885372978\n",
      "Customer 6 arrived at 3.8823950220388235\n",
      "[3.8823950220388235]\n",
      "Customer 7 arrived at 3.9115469834380003\n",
      "[3.8823950220388235, 3.9115469834380003]\n",
      "Customer 8 arrived at 3.9128814111940082\n",
      "[3.8823950220388235, 3.9115469834380003, 3.9128814111940082]\n",
      "Customer 9 arrived at 4.407540208326569\n",
      "[3.8823950220388235, 3.9115469834380003, 3.9128814111940082, 4.407540208326569]\n",
      "Customer 7 departed at 4.435612219748197 with wait_time of 0.5240652363101967\n",
      "Customer 6 departed at 4.510384307035758 with wait_time of 0.6279892849969346\n",
      "Customer 9 departed at 4.626473938001858 with wait_time of 0.1160896309661007\n",
      "Customer 8 departed at 4.934271555842778 with wait_time of 0.4986593360945808\n",
      "Customer 10 arrived at 5.011929219206204\n",
      "[5.011929219206204]\n",
      "Customer 11 arrived at 5.099083820994578\n",
      "[5.011929219206204, 5.099083820994578]\n",
      "Customer 10 departed at 5.240550608593999 with wait_time of 0.228621389387795\n",
      "Customer 11 departed at 5.252173270485574 with wait_time of 0.15308944949099632\n",
      "Customer 12 arrived at 5.664394996315381\n",
      "[5.664394996315381]\n",
      "Customer 12 departed at 5.729598463928885 with wait_time of 0.06520346761350354\n",
      "Customer 13 arrived at 5.968758907217057\n",
      "[5.968758907217057]\n",
      "Customer 14 arrived at 6.133885777182253\n",
      "[5.968758907217057, 6.133885777182253]\n",
      "Customer 15 arrived at 6.145465765436193\n",
      "[5.968758907217057, 6.133885777182253, 6.145465765436193]\n",
      "Customer 13 departed at 6.217731366323999 with wait_time of 0.2489724591069419\n",
      "Customer 15 departed at 6.218463606313192 with wait_time of 0.0007322399891929765\n",
      "Customer 14 departed at 6.241937522153818 with wait_time of 0.10805174497156524\n",
      "Customer 16 arrived at 6.295146865669062\n",
      "[6.295146865669062]\n",
      "Customer 16 departed at 7.437027909500936 with wait_time of 1.1418810438318747\n",
      "Customer 17 arrived at 7.729796425939471\n",
      "[7.729796425939471]\n",
      "Customer 17 departed at 7.905937053908951 with wait_time of 0.17614062796948002\n",
      "Customer 18 arrived at 8.670545516459836\n",
      "[8.670545516459836]\n",
      "Customer 18 departed at 8.772603623842748 with wait_time of 0.10205810738291286\n",
      "Customer 19 arrived at 9.136452859175934\n",
      "[9.136452859175934]\n",
      "Customer 19 departed at 9.495426292924732 with wait_time of 0.35897343374879837\n",
      "Customer 20 arrived at 9.540995541380765\n",
      "[9.540995541380765]\n",
      "Customer 20 departed at 9.693008915949108 with wait_time of 0.15201337456834244\n"
     ]
    }
   ],
   "source": [
    "arrival_rate = 2.0\n",
    "service_rate = 3.0\n",
    "simulation_time = 10.0\n",
    "n = 2\n",
    "\n",
    "run_MMn_FIFO_queue(arrival_rate, service_rate, n, simulation_time)"
   ]
  },
  {
   "cell_type": "code",
   "execution_count": 3,
   "metadata": {},
   "outputs": [],
   "source": [
    "import simpy as sm\n",
    "import random\n",
    "import pandas as pd\n",
    "import csv\n",
    "import warnings\n",
    "warnings.simplefilter(action='ignore', category=FutureWarning)"
   ]
  },
  {
   "cell_type": "markdown",
   "metadata": {},
   "source": []
  },
  {
   "cell_type": "code",
   "execution_count": 27,
   "metadata": {},
   "outputs": [],
   "source": [
    "class g:\n",
    "    arrival_rate = 1\n",
    "    service_rate = 2\n",
    "    number_of_servers = 1\n",
    "    sim_duration = 200\n",
    "    number_of_runs = 10\n",
    "\n",
    "class Customer:\n",
    "    def __init__(self, customer_id):\n",
    "        self.id = customer_id\n",
    "        self.queue_time = 0\n",
    "\n",
    "class Queue:\n",
    "    \n",
    "    def __init__(self, run_number, queue_type):\n",
    "        self.env = sm.Environment()\n",
    "        self.server = sm.Resource(self.env, capacity=g.number_of_servers)\n",
    "        self.run_number = run_number\n",
    "        self.queue_type = queue_type\n",
<<<<<<< HEAD
    "        self.customer_counter = 0\n",
    "        self.mean_queue_time = 0\n",
    "        self.mean_system_time = 0\n",
    "        self.mean_service_time = 0\n",
    "        #self.file_name = file_name\n",
    "        columns = [\"Customer ID\", \"Start Queueing\", \"End Queueing\", \"Queueing Time\", \"Sojourn Time\", \"Service Time\"] \n",
    "        self.results_df = pd.DataFrame(columns=columns)\n",
=======
    "        self.results_df = pd.DataFrame()\n",
    "        self.results_df[\"Customer ID\"] = []\n",
    "        self.results_df[\"Start Queueing\"] = []\n",
    "        self.results_df[\"End Queueing\"] = []\n",
    "        self.results_df[\"Queueing Time\"] = []\n",
    "        self.results_df[\"Sojourn Time\"] = []\n",
>>>>>>> 8fb13c805cf394542dfbd0104b3d775a3cc59b47
    "        self.results_df.set_index(\"Customer ID\", inplace=True)\n",
    "        \n",
    "    \n",
    "    # Method that generates customers arrivals\n",
    "    def generate_arrivals(self):\n",
    "        while True:\n",
    "            self.customer_counter += 1\n",
    "            cp = Customer(self.customer_counter)\n",
    "            # Run activity generator for this customer\n",
    "            self.env.process(self.create_queue(cp))\n",
    "\n",
    "            # sample time until next customer\n",
    "            t = random.expovariate(g.arrival_rate)\n",
    "\n",
    "            # Freezr untill that time has passed\n",
    "            yield self.env.timeout(t)\n",
    "            \n",
    "    def create_queue(self, customer):\n",
    "        start_queue = self.env.now\n",
    "        # Request a server\n",
    "        with self.server.request() as req:\n",
    "            # Freeze until the request can be met \n",
    "            yield req\n",
    "            \n",
    "            end_queue = self.env.now\n",
    "            # Sample time spent in server\n",
    "            if self.queue_type == \"MMn\":\n",
    "                sampled_service_time = random.expovariate(g.service_rate)\n",
    "            elif self.queue_type == \"MDn\":\n",
    "                sampled_service_time = 2\n",
    "            #sampled_service_time = 1\n",
    "            elif self.queue_type == \"MLn\":\n",
    "                rand = random.random()\n",
    "                if rand < 0.75:\n",
    "                    sampled_service_time = random.expovariate(1.0)\n",
    "                else:\n",
    "                    sampled_service_time = random.expovariate(5.0)\n",
    "\n",
    "            # Freeze until that time has passed\n",
    "            yield self.env.timeout(sampled_service_time)\n",
    "            \n",
    "            # Calculate time customer was queueing\n",
    "            out_of_system = self.env.now\n",
    "            sojourn_time = out_of_system - start_queue\n",
    "            customer.queue_time = end_queue - start_queue\n",
    "            df_to_add = pd.DataFrame({\"Customer ID\":[customer.id], \"Start Queueing\": [start_queue],\n",
    "                                     \"End Queueing\": [end_queue], \"Queueing Time\": [customer.queue_time],\n",
    "                                     \"Sojourn Time\": [sojourn_time], \"Service Time\":[sampled_service_time]})\n",
    "            df_to_add.set_index(\"Customer ID\", inplace=True)\n",
    "            self.results_df = self.results_df.append(df_to_add)\n",
    "            \n",
<<<<<<< HEAD
    "    def calculate_mean_times(self):\n",
    "        self.mean_queue_time = self.results_df[\"Queueing Time\"].mean()\n",
    "        self.mean_system_time = self.results_df[\"Sojourn Time\"].mean()\n",
    "        self.mean_service_time = self.results_df[\"Service Time\"].mean()\n",
=======
    "    def calculate_mean_queue_time(self):\n",
    "        self.mean_queue_time = self.results_df[\"Queueing Time\"].mean()\n",
>>>>>>> 8fb13c805cf394542dfbd0104b3d775a3cc59b47
    "        \n",
    "    def write_run_results(self):\n",
    "        with open(\"trial_results.csv\", \"a\") as f:\n",
    "            writer = csv.writer(f, delimiter=\",\")\n",
    "            results_to_write = [self.run_number, self.mean_queue_time]\n",
    "            writer.writerow(results_to_write)\n",
    "            \n",
    "    def run(self):\n",
    "        self.env.process(self.generate_arrivals())\n",
    "        self.env.run(until=g.sim_duration)\n",
    "        # Calculate run results\n",
<<<<<<< HEAD
    "        self.calculate_mean_times()\n",
    "        #self.write_run_results()\n",
    "        "
=======
    "        self.calculate_mean_queue_time()\n",
    "        self.write_run_results()\n"
>>>>>>> 8fb13c805cf394542dfbd0104b3d775a3cc59b47
   ]
  },
  {
   "cell_type": "code",
   "execution_count": 5,
   "metadata": {},
   "outputs": [],
   "source": [
    "def calculate_CI(data):\n",
    "    \n",
    "    sigma = data.std()\n",
    "    x_bar = data.mean()\n",
    "    CI = (x_bar - (1.96*sigma/np.sqrt(data.shape[0])), x_bar + (1.96*sigma/np.sqrt(data.shape[0])))\n",
    "    \n",
    "    return CI"
   ]
  },
  {
   "cell_type": "code",
<<<<<<< HEAD
   "execution_count": 69,
   "metadata": {},
   "outputs": [],
   "source": [
    "def estimate_waiting_times(type_queue, RHO, MU, n):\n",
    "    \n",
    "    mean_queue = []\n",
    "    mean_sojourn = []\n",
    "    mean_service = []\n",
    "    for rho in RHO:\n",
    "        temp_mean_queue_run = []\n",
    "        temp_sj = []\n",
    "        temp_serice = []\n",
    "        g.arrival_rate = MU*rho\n",
    "        g.service_rate = MU\n",
    "        g.number_of_servers = n\n",
    "        g.number_of_runs = 100\n",
    "        for run in range(g.number_of_runs):\n",
    "            queue_model = Queue(run, type_queue)\n",
    "            queue_model.run()\n",
    "            temp_mean_queue_run.append(queue_model.mean_queue_time)\n",
    "            temp_sj.append(queue_model.mean_system_time)\n",
    "            temp_serice.append(queue_model.mean_service_time)\n",
    "        mean_queue.append(np.array(temp_mean_queue_run).mean(axis=0))\n",
    "        mean_sojourn.append(np.array(temp_sj).mean(axis = 0))\n",
    "        mean_service.append(np.array(temp_serice).mean(axis=0))\n",
    "    \n",
    "    return mean_queue, mean_sojourn, mean_service"
   ]
  },
  {
   "cell_type": "code",
   "execution_count": null,
   "metadata": {},
   "outputs": [],
   "source": [
    "MU = 4\n",
    "RHO = [0.1, 0.2,0.3, 0.4, 0.45, 0.45, 0.55, 0.6, 0.65,0.7,0.725, 0.75, 0.8,0.825, 0.85, 0.9, 0.925,0.95, 0.975,1.0, 1.1,1.2]\n",
    "num_sim = [5, 10, 25, 50, 100, 150, 500, 1000]"
   ]
  },
  {
   "cell_type": "code",
   "execution_count": 70,
=======
   "execution_count": 4,
>>>>>>> 8fb13c805cf394542dfbd0104b3d775a3cc59b47
   "metadata": {},
   "outputs": [
    {
     "data": {
      "text/html": [
       "<div>\n",
       "<style scoped>\n",
       "    .dataframe tbody tr th:only-of-type {\n",
       "        vertical-align: middle;\n",
       "    }\n",
       "\n",
       "    .dataframe tbody tr th {\n",
       "        vertical-align: top;\n",
       "    }\n",
       "\n",
       "    .dataframe thead th {\n",
       "        text-align: right;\n",
       "    }\n",
       "</style>\n",
       "<table border=\"1\" class=\"dataframe\">\n",
       "  <thead>\n",
       "    <tr style=\"text-align: right;\">\n",
       "      <th></th>\n",
       "      <th>Start Queueing</th>\n",
       "      <th>End Queueing</th>\n",
       "      <th>Queueing Time</th>\n",
       "      <th>Sojourn Time</th>\n",
       "    </tr>\n",
       "    <tr>\n",
       "      <th>Customer ID</th>\n",
       "      <th></th>\n",
       "      <th></th>\n",
       "      <th></th>\n",
       "      <th></th>\n",
       "    </tr>\n",
       "  </thead>\n",
       "  <tbody>\n",
       "    <tr>\n",
       "      <th>1</th>\n",
       "      <td>0.000000</td>\n",
       "      <td>0.000000</td>\n",
       "      <td>0.000000</td>\n",
       "      <td>2.000000</td>\n",
       "    </tr>\n",
       "    <tr>\n",
       "      <th>2</th>\n",
       "      <td>2.548015</td>\n",
       "      <td>2.548015</td>\n",
       "      <td>0.000000</td>\n",
       "      <td>2.000000</td>\n",
       "    </tr>\n",
       "    <tr>\n",
       "      <th>3</th>\n",
       "      <td>3.895530</td>\n",
       "      <td>4.548015</td>\n",
       "      <td>0.652485</td>\n",
       "      <td>2.652485</td>\n",
       "    </tr>\n",
       "    <tr>\n",
       "      <th>4</th>\n",
       "      <td>4.071226</td>\n",
       "      <td>6.548015</td>\n",
       "      <td>2.476789</td>\n",
       "      <td>4.476789</td>\n",
       "    </tr>\n",
       "    <tr>\n",
       "      <th>5</th>\n",
       "      <td>4.321804</td>\n",
       "      <td>8.548015</td>\n",
       "      <td>4.226211</td>\n",
       "      <td>6.226211</td>\n",
       "    </tr>\n",
       "    <tr>\n",
       "      <th>...</th>\n",
       "      <td>...</td>\n",
       "      <td>...</td>\n",
       "      <td>...</td>\n",
       "      <td>...</td>\n",
       "    </tr>\n",
       "    <tr>\n",
       "      <th>95</th>\n",
       "      <td>86.888302</td>\n",
       "      <td>188.548015</td>\n",
       "      <td>101.659713</td>\n",
       "      <td>103.659713</td>\n",
       "    </tr>\n",
       "    <tr>\n",
       "      <th>96</th>\n",
       "      <td>88.657431</td>\n",
       "      <td>190.548015</td>\n",
       "      <td>101.890584</td>\n",
       "      <td>103.890584</td>\n",
       "    </tr>\n",
       "    <tr>\n",
       "      <th>97</th>\n",
       "      <td>89.118094</td>\n",
       "      <td>192.548015</td>\n",
       "      <td>103.429922</td>\n",
       "      <td>105.429922</td>\n",
       "    </tr>\n",
       "    <tr>\n",
       "      <th>98</th>\n",
       "      <td>89.588388</td>\n",
       "      <td>194.548015</td>\n",
       "      <td>104.959628</td>\n",
       "      <td>106.959628</td>\n",
       "    </tr>\n",
       "    <tr>\n",
       "      <th>99</th>\n",
       "      <td>89.593197</td>\n",
       "      <td>196.548015</td>\n",
       "      <td>106.954818</td>\n",
       "      <td>108.954818</td>\n",
       "    </tr>\n",
       "  </tbody>\n",
       "</table>\n",
       "<p>99 rows × 4 columns</p>\n",
       "</div>"
      ],
      "text/plain": [
       "             Start Queueing  End Queueing  Queueing Time  Sojourn Time\n",
       "Customer ID                                                           \n",
       "1                  0.000000      0.000000       0.000000      2.000000\n",
       "2                  2.548015      2.548015       0.000000      2.000000\n",
       "3                  3.895530      4.548015       0.652485      2.652485\n",
       "4                  4.071226      6.548015       2.476789      4.476789\n",
       "5                  4.321804      8.548015       4.226211      6.226211\n",
       "...                     ...           ...            ...           ...\n",
       "95                86.888302    188.548015     101.659713    103.659713\n",
       "96                88.657431    190.548015     101.890584    103.890584\n",
       "97                89.118094    192.548015     103.429922    105.429922\n",
       "98                89.588388    194.548015     104.959628    106.959628\n",
       "99                89.593197    196.548015     106.954818    108.954818\n",
       "\n",
       "[99 rows x 4 columns]"
      ]
     },
     "execution_count": 4,
     "metadata": {},
     "output_type": "execute_result"
    }
   ],
   "source": [
<<<<<<< HEAD
    "est_mean, est_sojourn, est_service = estimate_waiting_times(\"MMn\", RHO, MU, 1)"
   ]
  },
  {
   "cell_type": "code",
   "execution_count": 72,
   "metadata": {},
   "outputs": [
    {
     "data": {
      "text/plain": [
       "[<matplotlib.lines.Line2D at 0x1b403e747c0>]"
      ]
     },
     "execution_count": 72,
     "metadata": {},
     "output_type": "execute_result"
    },
    {
     "data": {
      "image/png": "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",
      "text/plain": [
       "<Figure size 640x480 with 1 Axes>"
      ]
     },
     "metadata": {},
     "output_type": "display_data"
    }
   ],
   "source": [
    "plt.plot(RHO, np.array(est_mean), \"*-\")"
   ]
  },
  {
   "cell_type": "code",
   "execution_count": 74,
   "metadata": {},
   "outputs": [
    {
     "data": {
      "text/plain": [
       "[<matplotlib.lines.Line2D at 0x1b404028850>]"
      ]
     },
     "execution_count": 74,
     "metadata": {},
     "output_type": "execute_result"
    },
    {
     "data": {
      "image/png": "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",
      "text/plain": [
       "<Figure size 640x480 with 1 Axes>"
      ]
     },
     "metadata": {},
     "output_type": "display_data"
    }
   ],
   "source": [
    "plt.plot(RHO, np.array(est_sojourn), \"*-\")"
=======
    "mu_queue_model.results_df"
>>>>>>> 8fb13c805cf394542dfbd0104b3d775a3cc59b47
   ]
  },
  {
   "cell_type": "code",
<<<<<<< HEAD
   "execution_count": 75,
   "metadata": {},
   "outputs": [],
   "source": [
    "est_mean_2, est_sojourn_2, est_service_2 = estimate_waiting_times(\"MMn\", RHO, MU, 2)\n",
    "    "
   ]
=======
   "execution_count": null,
   "metadata": {},
   "outputs": [],
   "source": []
>>>>>>> 8fb13c805cf394542dfbd0104b3d775a3cc59b47
  },
  {
   "cell_type": "code",
   "execution_count": 76,
   "metadata": {},
   "outputs": [],
   "source": [
    "est_mean_4, est_sojourn_4, est_service_4 = estimate_waiting_times(\"MMn\", RHO, MU, 4)"
   ]
  },
  {
   "cell_type": "code",
   "execution_count": 78,
   "metadata": {},
   "outputs": [
    {
     "data": {
      "text/plain": [
       "<matplotlib.legend.Legend at 0x1b400b82160>"
      ]
     },
     "execution_count": 78,
     "metadata": {},
     "output_type": "execute_result"
    },
    {
     "data": {
      "image/png": "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",
      "text/plain": [
       "<Figure size 640x480 with 1 Axes>"
      ]
     },
     "metadata": {},
     "output_type": "display_data"
    }
   ],
   "source": [
    "plt.plot(RHO[:-2], est_mean_2[:-2], label=\"n=2\")\n",
    "plt.plot(RHO[:-2], est_mean_4[:-2], label=\"n=4\")\n",
    "plt.plot(RHO[:-2], est_mean[:-2], label=\"n=1\")\n",
    "plt.legend()"
   ]
  },
  {
   "cell_type": "code",
   "execution_count": null,
   "metadata": {},
   "outputs": [],
   "source": []
  },
  {
   "cell_type": "markdown",
   "metadata": {},
   "source": [
    "### Statistical significance "
   ]
  },
  {
   "cell_type": "code",
   "execution_count": null,
   "metadata": {},
   "outputs": [],
   "source": []
  },
  {
   "cell_type": "markdown",
   "metadata": {},
   "source": [
    "### Numer of measurements required"
   ]
  },
  {
   "cell_type": "code",
   "execution_count": null,
   "metadata": {},
   "outputs": [],
   "source": []
  },
  {
   "cell_type": "markdown",
   "metadata": {},
   "source": [
    "## DES program that implements shortest job first case for M/M/1"
   ]
  },
  {
   "cell_type": "code",
   "execution_count": 5,
   "metadata": {},
   "outputs": [],
   "source": [
    "class SJF_queue:\n",
    "    \n",
    "    def __init__(self, run_number):\n",
    "        self.env = sm.Environment()\n",
    "        self.customer_counter = 0\n",
    "        self.server = sm.PriorityResource(self.env, capacity=g.number_of_servers)\n",
    "        self.run_number = run_number\n",
    "        self.mean_queue_time = 0\n",
    "        self.results_df = pd.DataFrame()\n",
    "        self.results_df[\"Customer ID\"] = []\n",
    "        self.results_df[\"Start Queueing\"] = []\n",
    "        self.results_df[\"End Queueing\"] = []\n",
    "        self.results_df[\"Queueing Time\"] = []\n",
    "        self.results_df.set_index(\"Customer ID\", inplace=True)\n",
    "        \n",
    "    \n",
    "    # Method that generates customers arrivals\n",
    "    def generate_arrivals(self):\n",
    "        while True:\n",
    "            self.customer_counter += 1\n",
    "            cp = Customer(self.customer_counter)\n",
    "            # Run activity generator for this customer\n",
    "            self.env.process(self.create_queue(cp))\n",
    "\n",
    "            # sample time until next customer\n",
    "            t = random.expovariate(g.arrival_rate)\n",
    "\n",
    "            # Freezr untill that time has passed\n",
    "            yield self.env.timeout(t)\n",
    "            \n",
    "    def create_queue(self, customer):\n",
    "        start_queue = self.env.now\n",
    "        # Request a server\n",
    "        sampled_service_time = random.expovariate(g.service_rate)\n",
    "        with self.server.request(priority = int(sampled_service_time)) as req:\n",
    "            # Freeze until the request can be met \n",
    "            yield req  \n",
    "            \n",
    "            end_queue = self.env.now\n",
    "            # Sample time spent in server\n",
    "            if self.queue_type == \"MMn\":\n",
    "                sampled_service_time = random.expovariate(g.service_rate)\n",
    "            elif self.queue_type == \"MDn\":\n",
    "                sampled_service_time = 2\n",
    "            #sampled_service_time = 1\n",
    "            elif self.queue_type == \"MLn\":\n",
    "                rand = random.random()\n",
    "                if rand <= 0.75:\n",
    "                    sampled_service_time = random.expovariate(1.0)\n",
    "                else:\n",
    "                    sampled_service_time = random.expovariate(5.0)\n",
    "\n",
    "            # Freeze until that time has passed\n",
    "            yield self.env.timeout(sampled_service_time)\n",
    "            \n",
    "            # Calculate time customer was queueing\n",
    "            out_of_system = self.env.now\n",
    "            sojourn_time = out_of_system - start_queue\n",
    "            customer.queue_time = end_queue - start_queue\n",
    "            df_to_add = pd.DataFrame({\"Customer ID\":[customer.id], \"Start Queueing\": [start_queue],\n",
    "                                     \"End Queueing\": [end_queue], \"Queueing Time\": [customer.queue_time],\n",
    "                                     \"Sojourn Time\": [sojourn_time]})\n",
    "            df_to_add.set_index(\"Customer ID\", inplace=True)\n",
    "            self.results_df = self.results_df.append(df_to_add)\n",
    "            \n",
    "    def calculate_mean_queue_time(self):\n",
    "        self.mean_queue_time = self.results_df[\"Queueing Time\"].mean()\n",
    "        \n",
    "    def write_run_results(self):\n",
    "        with open(\"trial_results.csv\", \"a\") as f:\n",
    "            writer = csv.writer(f, delimiter=\",\")\n",
    "            results_to_write = [self.run_number, self.mean_queue_time]\n",
    "            writer.writerow(results_to_write)\n",
    "            \n",
    "    def run(self):\n",
    "        self.env.process(self.generate_arrivals())\n",
    "        self.env.run(until=g.sim_duration)\n",
    "        # Calculate run results\n",
    "        self.calculate_mean_queue_time()\n",
    "        self.write_run_results()\n",
    "      \n",
    "            \n",
    "   "
   ]
  },
  {
   "cell_type": "code",
   "execution_count": 6,
   "metadata": {},
   "outputs": [],
   "source": [
    "for run in range(g.number_of_runs):\n",
    "    mu_queue_model = SJF_queue(run)\n",
    "    mu_queue_model.run()"
   ]
  },
  {
   "cell_type": "code",
   "execution_count": 7,
   "metadata": {},
   "outputs": [
    {
     "data": {
      "text/html": [
       "<div>\n",
       "<style scoped>\n",
       "    .dataframe tbody tr th:only-of-type {\n",
       "        vertical-align: middle;\n",
       "    }\n",
       "\n",
       "    .dataframe tbody tr th {\n",
       "        vertical-align: top;\n",
       "    }\n",
       "\n",
       "    .dataframe thead th {\n",
       "        text-align: right;\n",
       "    }\n",
       "</style>\n",
       "<table border=\"1\" class=\"dataframe\">\n",
       "  <thead>\n",
       "    <tr style=\"text-align: right;\">\n",
       "      <th></th>\n",
       "      <th>Start Queueing</th>\n",
       "      <th>End Queueing</th>\n",
       "      <th>Queueing Time</th>\n",
       "      <th>Sojourn Time</th>\n",
       "    </tr>\n",
       "    <tr>\n",
       "      <th>Customer ID</th>\n",
       "      <th></th>\n",
       "      <th></th>\n",
       "      <th></th>\n",
       "      <th></th>\n",
       "    </tr>\n",
       "  </thead>\n",
       "  <tbody>\n",
       "    <tr>\n",
       "      <th>1</th>\n",
       "      <td>0.000000</td>\n",
       "      <td>0.000000</td>\n",
       "      <td>0.000000</td>\n",
       "      <td>3.507676</td>\n",
       "    </tr>\n",
       "    <tr>\n",
       "      <th>3</th>\n",
       "      <td>2.571673</td>\n",
       "      <td>3.507676</td>\n",
       "      <td>0.936003</td>\n",
       "      <td>1.063312</td>\n",
       "    </tr>\n",
       "    <tr>\n",
       "      <th>2</th>\n",
       "      <td>0.695001</td>\n",
       "      <td>3.634985</td>\n",
       "      <td>2.939984</td>\n",
       "      <td>4.462985</td>\n",
       "    </tr>\n",
       "    <tr>\n",
       "      <th>6</th>\n",
       "      <td>4.391795</td>\n",
       "      <td>5.157986</td>\n",
       "      <td>0.766191</td>\n",
       "      <td>0.872970</td>\n",
       "    </tr>\n",
       "    <tr>\n",
       "      <th>4</th>\n",
       "      <td>3.420918</td>\n",
       "      <td>5.264765</td>\n",
       "      <td>1.843847</td>\n",
       "      <td>3.033387</td>\n",
       "    </tr>\n",
       "    <tr>\n",
       "      <th>...</th>\n",
       "      <td>...</td>\n",
       "      <td>...</td>\n",
       "      <td>...</td>\n",
       "      <td>...</td>\n",
       "    </tr>\n",
       "    <tr>\n",
       "      <th>209</th>\n",
       "      <td>191.630140</td>\n",
       "      <td>192.704869</td>\n",
       "      <td>1.074729</td>\n",
       "      <td>2.017838</td>\n",
       "    </tr>\n",
       "    <tr>\n",
       "      <th>211</th>\n",
       "      <td>191.909588</td>\n",
       "      <td>193.647977</td>\n",
       "      <td>1.738389</td>\n",
       "      <td>2.675369</td>\n",
       "    </tr>\n",
       "    <tr>\n",
       "      <th>207</th>\n",
       "      <td>191.240714</td>\n",
       "      <td>194.584957</td>\n",
       "      <td>3.344243</td>\n",
       "      <td>4.950720</td>\n",
       "    </tr>\n",
       "    <tr>\n",
       "      <th>193</th>\n",
       "      <td>176.789893</td>\n",
       "      <td>196.191434</td>\n",
       "      <td>19.401541</td>\n",
       "      <td>22.262919</td>\n",
       "    </tr>\n",
       "    <tr>\n",
       "      <th>215</th>\n",
       "      <td>196.984891</td>\n",
       "      <td>199.052813</td>\n",
       "      <td>2.067922</td>\n",
       "      <td>2.920037</td>\n",
       "    </tr>\n",
       "  </tbody>\n",
       "</table>\n",
       "<p>163 rows × 4 columns</p>\n",
       "</div>"
      ],
      "text/plain": [
       "             Start Queueing  End Queueing  Queueing Time  Sojourn Time\n",
       "Customer ID                                                           \n",
       "1                  0.000000      0.000000       0.000000      3.507676\n",
       "3                  2.571673      3.507676       0.936003      1.063312\n",
       "2                  0.695001      3.634985       2.939984      4.462985\n",
       "6                  4.391795      5.157986       0.766191      0.872970\n",
       "4                  3.420918      5.264765       1.843847      3.033387\n",
       "...                     ...           ...            ...           ...\n",
       "209              191.630140    192.704869       1.074729      2.017838\n",
       "211              191.909588    193.647977       1.738389      2.675369\n",
       "207              191.240714    194.584957       3.344243      4.950720\n",
       "193              176.789893    196.191434      19.401541     22.262919\n",
       "215              196.984891    199.052813       2.067922      2.920037\n",
       "\n",
       "[163 rows x 4 columns]"
      ]
     },
     "execution_count": 7,
     "metadata": {},
     "output_type": "execute_result"
    }
   ],
   "source": [
    "mu_queue_model.results_df"
   ]
  },
  {
   "cell_type": "markdown",
   "metadata": {},
   "source": [
    "## Different service rate distribution on M/D/n and M/D/1"
   ]
  },
  {
   "cell_type": "code",
   "execution_count": null,
   "metadata": {},
   "outputs": [],
   "source": []
  },
  {
   "cell_type": "markdown",
   "metadata": {},
   "source": [
    "## Long-tail distribution"
   ]
  },
  {
   "cell_type": "code",
   "execution_count": null,
   "metadata": {},
   "outputs": [],
   "source": []
  }
 ],
 "metadata": {
  "kernelspec": {
   "display_name": "Python 3",
   "language": "python",
   "name": "python3"
  },
  "language_info": {
   "codemirror_mode": {
    "name": "ipython",
    "version": 3
   },
   "file_extension": ".py",
   "mimetype": "text/x-python",
   "name": "python",
   "nbconvert_exporter": "python",
   "pygments_lexer": "ipython3",
   "version": "3.10.11"
  }
 },
 "nbformat": 4,
 "nbformat_minor": 2
}
