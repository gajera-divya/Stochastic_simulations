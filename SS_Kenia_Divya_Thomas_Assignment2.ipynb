{
 "cells": [
  {
   "cell_type": "markdown",
   "metadata": {},
   "source": [
    "# DES Simulation"
   ]
  },
  {
   "cell_type": "markdown",
   "metadata": {},
   "source": [
    "This notebook generates the results used in the report for the second assignment of the course 'Stochastic Simulation'.\n",
    "\n",
    "Authors:\n",
    "\n",
    "1. Divyaben Hasmukhbhai Gajera\n",
    "- Affiliation: MSc Computational Science, University of Amsterdam\n",
    "- Email: divya.gajera@student.uva.nl\n",
    "- Student Number: 14932644\n",
    "\n",
    "2. K. López\n",
    "- Affiliation: MSc Computational Science, University of Amsterdam\n",
    "- Email: kenia.lopez.sotomayor@student.uva.nl\n",
    "- Student Number: 12965081\n",
    "\n",
    "3. T. P. Glansdorp\n",
    "- Affiliation: MSc Computational Science, University of Amsterdam\n",
    "- Email: thomas.glansdorp@student.uva.nl\n",
    "- Student Number: 12748587"
   ]
  },
  {
   "cell_type": "code",
   "execution_count": 34,
   "metadata": {},
   "outputs": [],
   "source": [
    "import simpy as sp\n",
    "import numpy as np\n",
    "import matplotlib.pyplot as plt\n",
    "import random\n",
    "import queue"
   ]
  },
  {
   "cell_type": "markdown",
   "metadata": {},
   "source": [
    "## DES program that implements FIFO scheduling case"
   ]
  },
  {
   "cell_type": "code",
   "execution_count": 96,
   "metadata": {},
   "outputs": [],
   "source": [
    "class MMnFIFOQueue:\n",
    "    def __init__(self, env, arrival_rate, service_rate, n):\n",
    "        self.env = env\n",
    "        self.server = sp.Resource(env, capacity=n)\n",
    "        self.arrival_rate = arrival_rate\n",
    "        self.service_rate = service_rate\n",
    "        self.queue = []\n",
    "\n",
    "        env.process(self.arrive())\n",
    "        \n",
    "\n",
    "    def arrive(self):\n",
    "        customer_count = 0\n",
    "        while True:\n",
    "            inter_arrival_time = random.expovariate(self.arrival_rate)\n",
    "            yield self.env.timeout(inter_arrival_time)\n",
    "            self.queue.append(self.env.now)\n",
    "            customer_count += 1\n",
    "            self.env.process(self.depart(customer_count))\n",
    "            print(f\"Customer {customer_count} arrived at {self.env.now}\")\n",
    "\n",
    "            \n",
    "    def depart(self, customer_count):\n",
    "        print(self.queue)\n",
    "        with self.server.request() as request:\n",
    "            yield request\n",
    "            service_time = random.expovariate(self.service_rate)\n",
    "            yield self.env.timeout(service_time)\n",
    "            self.queue.pop(0)\n",
    "            print(f\"Customer {customer_count} departed at {self.env.now} with wait_time of {service_time}\")\n",
    "\n",
    "\n",
    "def run_MMn_FIFO_queue(arrival_rate, service_rate, n, simulation_time):\n",
    "    env = sp.Environment()\n",
    "    mmn_queue = MMnFIFOQueue(env, arrival_rate, service_rate, n)\n",
    "    env.run(until=simulation_time)\n"
   ]
  },
  {
   "cell_type": "code",
   "execution_count": 97,
   "metadata": {},
   "outputs": [
    {
     "name": "stdout",
     "output_type": "stream",
     "text": [
      "Customer 1 arrived at 1.1031092715306303\n",
      "[1.1031092715306303]\n",
      "Customer 2 arrived at 1.2700232264634765\n",
      "[1.1031092715306303, 1.2700232264634765]\n",
      "Customer 2 departed at 1.2946491980845236 with wait_time of 0.024625971621047155\n",
      "Customer 3 arrived at 1.3379541421687091\n",
      "[1.2700232264634765, 1.3379541421687091]\n",
      "Customer 1 departed at 1.3621056321428375 with wait_time of 0.25899636061220715\n",
      "Customer 4 arrived at 1.3693797031676418\n",
      "[1.3379541421687091, 1.3693797031676418]\n",
      "Customer 4 departed at 1.4111208007265923 with wait_time of 0.041741097558950495\n",
      "Customer 3 departed at 1.7173676497368666 with wait_time of 0.37941350756815745\n",
      "Customer 5 arrived at 2.986798564406796\n",
      "[2.986798564406796]\n",
      "Customer 5 departed at 3.0565571232605255 with wait_time of 0.06975855885372978\n",
      "Customer 6 arrived at 3.8823950220388235\n",
      "[3.8823950220388235]\n",
      "Customer 7 arrived at 3.9115469834380003\n",
      "[3.8823950220388235, 3.9115469834380003]\n",
      "Customer 8 arrived at 3.9128814111940082\n",
      "[3.8823950220388235, 3.9115469834380003, 3.9128814111940082]\n",
      "Customer 9 arrived at 4.407540208326569\n",
      "[3.8823950220388235, 3.9115469834380003, 3.9128814111940082, 4.407540208326569]\n",
      "Customer 7 departed at 4.435612219748197 with wait_time of 0.5240652363101967\n",
      "Customer 6 departed at 4.510384307035758 with wait_time of 0.6279892849969346\n",
      "Customer 9 departed at 4.626473938001858 with wait_time of 0.1160896309661007\n",
      "Customer 8 departed at 4.934271555842778 with wait_time of 0.4986593360945808\n",
      "Customer 10 arrived at 5.011929219206204\n",
      "[5.011929219206204]\n",
      "Customer 11 arrived at 5.099083820994578\n",
      "[5.011929219206204, 5.099083820994578]\n",
      "Customer 10 departed at 5.240550608593999 with wait_time of 0.228621389387795\n",
      "Customer 11 departed at 5.252173270485574 with wait_time of 0.15308944949099632\n",
      "Customer 12 arrived at 5.664394996315381\n",
      "[5.664394996315381]\n",
      "Customer 12 departed at 5.729598463928885 with wait_time of 0.06520346761350354\n",
      "Customer 13 arrived at 5.968758907217057\n",
      "[5.968758907217057]\n",
      "Customer 14 arrived at 6.133885777182253\n",
      "[5.968758907217057, 6.133885777182253]\n",
      "Customer 15 arrived at 6.145465765436193\n",
      "[5.968758907217057, 6.133885777182253, 6.145465765436193]\n",
      "Customer 13 departed at 6.217731366323999 with wait_time of 0.2489724591069419\n",
      "Customer 15 departed at 6.218463606313192 with wait_time of 0.0007322399891929765\n",
      "Customer 14 departed at 6.241937522153818 with wait_time of 0.10805174497156524\n",
      "Customer 16 arrived at 6.295146865669062\n",
      "[6.295146865669062]\n",
      "Customer 16 departed at 7.437027909500936 with wait_time of 1.1418810438318747\n",
      "Customer 17 arrived at 7.729796425939471\n",
      "[7.729796425939471]\n",
      "Customer 17 departed at 7.905937053908951 with wait_time of 0.17614062796948002\n",
      "Customer 18 arrived at 8.670545516459836\n",
      "[8.670545516459836]\n",
      "Customer 18 departed at 8.772603623842748 with wait_time of 0.10205810738291286\n",
      "Customer 19 arrived at 9.136452859175934\n",
      "[9.136452859175934]\n",
      "Customer 19 departed at 9.495426292924732 with wait_time of 0.35897343374879837\n",
      "Customer 20 arrived at 9.540995541380765\n",
      "[9.540995541380765]\n",
      "Customer 20 departed at 9.693008915949108 with wait_time of 0.15201337456834244\n"
     ]
    }
   ],
   "source": [
    "arrival_rate = 2.0\n",
    "service_rate = 3.0\n",
    "simulation_time = 10.0\n",
    "n = 2\n",
    "\n",
    "run_MMn_FIFO_queue(arrival_rate, service_rate, n, simulation_time)"
   ]
  },
  {
   "cell_type": "code",
   "execution_count": 3,
   "metadata": {},
   "outputs": [],
   "source": [
    "import simpy as sm\n",
    "import random\n",
    "import pandas as pd\n",
    "import csv\n",
    "import warnings\n",
    "warnings.simplefilter(action='ignore', category=FutureWarning)\n",
    "import numpy as np\n",
    "import matplotlib.pyplot as plt"
   ]
  },
  {
   "cell_type": "markdown",
   "metadata": {},
   "source": []
  },
  {
   "cell_type": "code",
   "execution_count": 27,
   "metadata": {},
   "outputs": [],
   "source": [
    "class g:\n",
    "    arrival_rate = 1\n",
    "    service_rate = 2\n",
    "    number_of_servers = 1\n",
    "    sim_duration = 200\n",
    "    number_of_runs = 10\n",
    "\n",
    "class Customer:\n",
    "    def __init__(self, customer_id):\n",
    "        self.id = customer_id\n",
    "        self.queue_time = 0\n",
    "\n",
    "class Queue:\n",
    "    \n",
    "    def __init__(self, run_number, queue_type):\n",
    "        self.env = sm.Environment()\n",
    "        self.server = sm.Resource(self.env, capacity=g.number_of_servers)\n",
    "        self.run_number = run_number\n",
    "        self.queue_type = queue_type\n",
    "        self.customer_counter = 0\n",
    "        self.mean_queue_time = 0\n",
    "        self.mean_system_time = 0\n",
    "        self.mean_service_time = 0\n",
    "        #self.file_name = file_name\n",
    "        columns = [\"Customer ID\", \"Start Queueing\", \"End Queueing\", \"Queueing Time\", \"Sojourn Time\", \"Service Time\"] \n",
    "        self.results_df = pd.DataFrame(columns=columns)\n",
    "        self.results_df.set_index(\"Customer ID\", inplace=True)\n",
    "        \n",
    "    \n",
    "    # Method that generates customers arrivals\n",
    "    def generate_arrivals(self):\n",
    "        while True:\n",
    "            self.customer_counter += 1\n",
    "            cp = Customer(self.customer_counter)\n",
    "            # Run activity generator for this customer\n",
    "            self.env.process(self.create_queue(cp))\n",
    "\n",
    "            # sample time until next customer\n",
    "            t = random.expovariate(g.arrival_rate)\n",
    "\n",
    "            # Freeze untill that time has passed\n",
    "            yield self.env.timeout(t)\n",
    "            \n",
    "    def create_queue(self, customer):\n",
    "        start_queue = self.env.now\n",
    "        \n",
    "        # Request a server\n",
    "        with self.server.request() as req:\n",
    "            # Freeze until the request can be met \n",
    "            yield req\n",
    "            \n",
    "            # Sample time spent in server\n",
    "            if self.queue_type == \"MMn\":\n",
    "                sampled_service_time = random.expovariate(g.service_rate)\n",
    "            elif self.queue_type == \"MDn\":\n",
    "                sampled_service_time = 2\n",
    "            \n",
    "            end_queue = self.env.now\n",
    "            \n",
    "            # Freeze until that time has passed\n",
    "            yield self.env.timeout(sampled_service_time)\n",
    "            \n",
    "            # Calculate time customer was queueing\n",
    "            out_of_system = self.env.now\n",
    "            sojourn_time = out_of_system - start_queue\n",
    "            customer.queue_time = end_queue - start_queue\n",
    "            df_to_add = pd.DataFrame({\"Customer ID\":[customer.id], \"Start Queueing\": [start_queue],\n",
    "                                     \"End Queueing\": [end_queue], \"Queueing Time\": [customer.queue_time],\n",
    "                                     \"Sojourn Time\": [sojourn_time], \"Service Time\":[sampled_service_time]})\n",
    "            df_to_add.set_index(\"Customer ID\", inplace=True)\n",
    "            self.results_df = self.results_df.append(df_to_add)\n",
    "            \n",
    "    def calculate_mean_times(self):\n",
    "        self.mean_queue_time = self.results_df[\"Queueing Time\"].mean()\n",
    "        self.mean_system_time = self.results_df[\"Sojourn Time\"].mean()\n",
    "        self.mean_service_time = self.results_df[\"Service Time\"].mean()\n",
    "        \n",
    "    def write_run_results(self):\n",
    "        with open(self.file_name, \"a\") as f:\n",
    "            writer = csv.writer(f, delimiter=\",\")\n",
    "            results_to_write = [self.run_number, self.mean_queue_time]\n",
    "            writer.writerow(results_to_write)\n",
    "            \n",
    "    def run(self):\n",
    "        self.env.process(self.generate_arrivals())\n",
    "        self.env.run(until=g.sim_duration)\n",
    "        # Calculate run results\n",
    "        self.calculate_mean_times()\n",
    "        #self.write_run_results()\n",
    "        "
   ]
  },
  {
   "cell_type": "code",
   "execution_count": 5,
   "metadata": {},
   "outputs": [],
   "source": [
    "def calculate_CI(data):\n",
    "    \n",
    "    sigma = data.std()\n",
    "    x_bar = data.mean()\n",
    "    CI = (x_bar - (1.96*sigma/np.sqrt(data.shape[0])), x_bar + (1.96*sigma/np.sqrt(data.shape[0])))\n",
    "    \n",
    "    return CI"
   ]
  },
  {
   "cell_type": "code",
   "execution_count": 69,
   "metadata": {},
   "outputs": [],
   "source": [
    "def estimate_waiting_times(type_queue, RHO, MU, n):\n",
    "    \n",
    "    mean_queue = []\n",
    "    mean_sojourn = []\n",
    "    mean_service = []\n",
    "    for rho in RHO:\n",
    "        temp_mean_queue_run = []\n",
    "        temp_sj = []\n",
    "        temp_serice = []\n",
    "        g.arrival_rate = MU*rho\n",
    "        g.service_rate = MU\n",
    "        g.number_of_servers = n\n",
    "        g.number_of_runs = 100\n",
    "        for run in range(g.number_of_runs):\n",
    "            queue_model = Queue(run, type_queue)\n",
    "            queue_model.run()\n",
    "            temp_mean_queue_run.append(queue_model.mean_queue_time)\n",
    "            temp_sj.append(queue_model.mean_system_time)\n",
    "            temp_serice.append(queue_model.mean_service_time)\n",
    "        mean_queue.append(np.array(temp_mean_queue_run).mean(axis=0))\n",
    "        mean_sojourn.append(np.array(temp_sj).mean(axis = 0))\n",
    "        mean_service.append(np.array(temp_serice).mean(axis=0))\n",
    "    \n",
    "    return mean_queue, mean_sojourn, mean_service"
   ]
  },
  {
   "cell_type": "code",
   "execution_count": null,
   "metadata": {},
   "outputs": [],
   "source": [
    "MU = 4\n",
    "RHO = [0.1, 0.2,0.3, 0.4, 0.45, 0.45, 0.55, 0.6, 0.65,0.7,0.725, 0.75, 0.8,0.825, 0.85, 0.9, 0.925,0.95, 0.975,1.0, 1.1,1.2]\n",
    "num_sim = [5, 10, 25, 50, 100, 150, 500, 1000]"
   ]
  },
  {
   "cell_type": "code",
   "execution_count": 70,
   "metadata": {},
   "outputs": [],
   "source": [
    "est_mean, est_sojourn, est_service = estimate_waiting_times(\"MMn\", RHO, MU, 1)"
   ]
  },
  {
   "cell_type": "code",
   "execution_count": 72,
   "metadata": {},
   "outputs": [
    {
     "data": {
      "text/plain": [
       "[<matplotlib.lines.Line2D at 0x1b403e747c0>]"
      ]
     },
     "execution_count": 72,
     "metadata": {},
     "output_type": "execute_result"
    },
    {
     "data": {
      "image/png": "[encoded data removed]",
      "text/plain": [
       "<Figure size 640x480 with 1 Axes>"
      ]
     },
     "metadata": {},
     "output_type": "display_data"
    }
   ],
   "source": [
    "plt.plot(RHO, np.array(est_mean), \"*-\")"
   ]
  },
  {
   "cell_type": "code",
   "execution_count": 74,
   "metadata": {},
   "outputs": [
    {
     "data": {
      "text/plain": [
       "[<matplotlib.lines.Line2D at 0x1b404028850>]"
      ]
     },
     "execution_count": 74,
     "metadata": {},
     "output_type": "execute_result"
    },
    {
     "data": {
      "image/png": "[encoded data removed]",
      "text/plain": [
       "<Figure size 640x480 with 1 Axes>"
      ]
     },
     "metadata": {},
     "output_type": "display_data"
    }
   ],
   "source": [
    "plt.plot(RHO, np.array(est_sojourn), \"*-\")"
   ]
  },
  {
   "cell_type": "code",
   "execution_count": 75,
   "metadata": {},
   "outputs": [],
   "source": [
    "est_mean_2, est_sojourn_2, est_service_2 = estimate_waiting_times(\"MMn\", RHO, MU, 2)\n",
    "    "
   ]
  },
  {
   "cell_type": "code",
   "execution_count": 76,
   "metadata": {},
   "outputs": [],
   "source": [
    "est_mean_4, est_sojourn_4, est_service_4 = estimate_waiting_times(\"MMn\", RHO, MU, 4)"
   ]
  },
  {
   "cell_type": "code",
   "execution_count": 79,
   "metadata": {},
   "outputs": [
    {
     "data": {
      "text/plain": [
       "Text(0, 0.5, 'Avg Waiting Time')"
      ]
     },
     "execution_count": 79,
     "metadata": {},
     "output_type": "execute_result"
    },
    {
     "data": {
      "image/png": "[encoded data removed]",
      "text/plain": [
       "<Figure size 640x480 with 1 Axes>"
      ]
     },
     "metadata": {},
     "output_type": "display_data"
    }
   ],
   "source": [
    "plt.plot(RHO[:-2], est_mean_2[:-2], label=\"n=2\")\n",
    "plt.plot(RHO[:-2], est_mean_4[:-2], label=\"n=4\")\n",
    "plt.plot(RHO[:-2], est_mean[:-2], label=\"n=1\")\n",
    "plt.legend()\n",
    "plt.xlabel(\"Rho\")\n",
    "plt.ylabel(\"Avg Waiting Time\")"
   ]
  },
  {
   "cell_type": "code",
   "execution_count": null,
   "metadata": {},
   "outputs": [],
   "source": []
  },
  {
   "cell_type": "markdown",
   "metadata": {},
   "source": [
    "### Statistical significance "
   ]
  },
  {
   "cell_type": "code",
   "execution_count": null,
   "metadata": {},
   "outputs": [],
   "source": []
  },
  {
   "cell_type": "markdown",
   "metadata": {},
   "source": [
    "### Numer of measurements required"
   ]
  },
  {
   "cell_type": "code",
   "execution_count": null,
   "metadata": {},
   "outputs": [],
   "source": []
  },
  {
   "cell_type": "markdown",
   "metadata": {},
   "source": [
    "## DES program that implements shortest job first case for M/M/1"
   ]
  },
  {
   "cell_type": "code",
   "execution_count": 5,
   "metadata": {},
   "outputs": [],
   "source": [
    "class SJF_queue:\n",
    "    \n",
    "    def __init__(self, run_number):\n",
    "        self.env = sm.Environment()\n",
    "        self.customer_counter = 0\n",
    "        self.server = sm.PriorityResource(self.env, capacity=g.number_of_servers)\n",
    "        self.run_number = run_number\n",
    "        self.mean_queue_time = 0\n",
    "        self.results_df = pd.DataFrame()\n",
    "        self.results_df[\"Customer ID\"] = []\n",
    "        self.results_df[\"Start Queueing\"] = []\n",
    "        self.results_df[\"End Queueing\"] = []\n",
    "        self.results_df[\"Queueing Time\"] = []\n",
    "        self.results_df.set_index(\"Customer ID\", inplace=True)\n",
    "        \n",
    "    \n",
    "    # Method that generates customers arrivals\n",
    "    def generate_arrivals(self):\n",
    "        while True:\n",
    "            self.customer_counter += 1\n",
    "            cp = Customer(self.customer_counter)\n",
    "            # Run activity generator for this customer\n",
    "            self.env.process(self.create_queue(cp))\n",
    "\n",
    "            # sample time until next customer\n",
    "            t = random.expovariate(1.0/g.arrival_rate)\n",
    "\n",
    "            # Freezr untill that time has passed\n",
    "            yield self.env.timeout(t)\n",
    "            \n",
    "    def create_queue(self, customer):\n",
    "        start_queue = self.env.now\n",
    "        # Request a server\n",
    "        sampled_service_time = random.expovariate(1.0/g.service_rate)\n",
    "        with self.server.request(priority = int(sampled_service_time)) as req:\n",
    "            # Freeze until the request can be met \n",
    "            yield req  \n",
    "            \n",
    "            end_queue = self.env.now\n",
    "\n",
    "            # Freeze until that time has passed\n",
    "            yield self.env.timeout(sampled_service_time)\n",
    "            \n",
    "            # Calculate time customer was queueing\n",
    "            out_of_system = self.env.now\n",
    "            sojourn_time = out_of_system - start_queue\n",
    "            customer.queue_time = end_queue - start_queue\n",
    "            df_to_add = pd.DataFrame({\"Customer ID\":[customer.id], \"Start Queueing\": [start_queue],\n",
    "                                     \"End Queueing\": [end_queue], \"Queueing Time\": [customer.queue_time],\n",
    "                                     \"Sojourn Time\": [sojourn_time]})\n",
    "            df_to_add.set_index(\"Customer ID\", inplace=True)\n",
    "            self.results_df = self.results_df.append(df_to_add)\n",
    "            \n",
    "    def calculate_mean_queue_time(self):\n",
    "        self.mean_queue_time = self.results_df[\"Queueing Time\"].mean()\n",
    "        \n",
    "    def write_run_results(self):\n",
    "        with open(\"trial_results.csv\", \"a\") as f:\n",
    "            writer = csv.writer(f, delimiter=\",\")\n",
    "            results_to_write = [self.run_number, self.mean_queue_time]\n",
    "            writer.writerow(results_to_write)\n",
    "            \n",
    "    def run(self):\n",
    "        self.env.process(self.generate_arrivals())\n",
    "        self.env.run(until=g.sim_duration)\n",
    "        # Calculate run results\n",
    "        self.calculate_mean_queue_time()\n",
    "        self.write_run_results()\n",
    "      \n",
    "            \n",
    "   "
   ]
  },
  {
   "cell_type": "code",
   "execution_count": 6,
   "metadata": {},
   "outputs": [],
   "source": [
    "for run in range(g.number_of_runs):\n",
    "    mu_queue_model = SJF_queue(run)\n",
    "    mu_queue_model.run()"
   ]
  },
  {
   "cell_type": "code",
   "execution_count": 7,
   "metadata": {},
   "outputs": [
    {
     "data": {
      "text/html": [
       "<div>\n",
       "<style scoped>\n",
       "    .dataframe tbody tr th:only-of-type {\n",
       "        vertical-align: middle;\n",
       "    }\n",
       "\n",
       "    .dataframe tbody tr th {\n",
       "        vertical-align: top;\n",
       "    }\n",
       "\n",
       "    .dataframe thead th {\n",
       "        text-align: right;\n",
       "    }\n",
       "</style>\n",
       "<table border=\"1\" class=\"dataframe\">\n",
       "  <thead>\n",
       "    <tr style=\"text-align: right;\">\n",
       "      <th></th>\n",
       "      <th>Start Queueing</th>\n",
       "      <th>End Queueing</th>\n",
       "      <th>Queueing Time</th>\n",
       "      <th>Sojourn Time</th>\n",
       "    </tr>\n",
       "    <tr>\n",
       "      <th>Customer ID</th>\n",
       "      <th></th>\n",
       "      <th></th>\n",
       "      <th></th>\n",
       "      <th></th>\n",
       "    </tr>\n",
       "  </thead>\n",
       "  <tbody>\n",
       "    <tr>\n",
       "      <th>1</th>\n",
       "      <td>0.000000</td>\n",
       "      <td>0.000000</td>\n",
       "      <td>0.000000</td>\n",
       "      <td>3.507676</td>\n",
       "    </tr>\n",
       "    <tr>\n",
       "      <th>3</th>\n",
       "      <td>2.571673</td>\n",
       "      <td>3.507676</td>\n",
       "      <td>0.936003</td>\n",
       "      <td>1.063312</td>\n",
       "    </tr>\n",
       "    <tr>\n",
       "      <th>2</th>\n",
       "      <td>0.695001</td>\n",
       "      <td>3.634985</td>\n",
       "      <td>2.939984</td>\n",
       "      <td>4.462985</td>\n",
       "    </tr>\n",
       "    <tr>\n",
       "      <th>6</th>\n",
       "      <td>4.391795</td>\n",
       "      <td>5.157986</td>\n",
       "      <td>0.766191</td>\n",
       "      <td>0.872970</td>\n",
       "    </tr>\n",
       "    <tr>\n",
       "      <th>4</th>\n",
       "      <td>3.420918</td>\n",
       "      <td>5.264765</td>\n",
       "      <td>1.843847</td>\n",
       "      <td>3.033387</td>\n",
       "    </tr>\n",
       "    <tr>\n",
       "      <th>...</th>\n",
       "      <td>...</td>\n",
       "      <td>...</td>\n",
       "      <td>...</td>\n",
       "      <td>...</td>\n",
       "    </tr>\n",
       "    <tr>\n",
       "      <th>209</th>\n",
       "      <td>191.630140</td>\n",
       "      <td>192.704869</td>\n",
       "      <td>1.074729</td>\n",
       "      <td>2.017838</td>\n",
       "    </tr>\n",
       "    <tr>\n",
       "      <th>211</th>\n",
       "      <td>191.909588</td>\n",
       "      <td>193.647977</td>\n",
       "      <td>1.738389</td>\n",
       "      <td>2.675369</td>\n",
       "    </tr>\n",
       "    <tr>\n",
       "      <th>207</th>\n",
       "      <td>191.240714</td>\n",
       "      <td>194.584957</td>\n",
       "      <td>3.344243</td>\n",
       "      <td>4.950720</td>\n",
       "    </tr>\n",
       "    <tr>\n",
       "      <th>193</th>\n",
       "      <td>176.789893</td>\n",
       "      <td>196.191434</td>\n",
       "      <td>19.401541</td>\n",
       "      <td>22.262919</td>\n",
       "    </tr>\n",
       "    <tr>\n",
       "      <th>215</th>\n",
       "      <td>196.984891</td>\n",
       "      <td>199.052813</td>\n",
       "      <td>2.067922</td>\n",
       "      <td>2.920037</td>\n",
       "    </tr>\n",
       "  </tbody>\n",
       "</table>\n",
       "<p>163 rows × 4 columns</p>\n",
       "</div>"
      ],
      "text/plain": [
       "             Start Queueing  End Queueing  Queueing Time  Sojourn Time\n",
       "Customer ID                                                           \n",
       "1                  0.000000      0.000000       0.000000      3.507676\n",
       "3                  2.571673      3.507676       0.936003      1.063312\n",
       "2                  0.695001      3.634985       2.939984      4.462985\n",
       "6                  4.391795      5.157986       0.766191      0.872970\n",
       "4                  3.420918      5.264765       1.843847      3.033387\n",
       "...                     ...           ...            ...           ...\n",
       "209              191.630140    192.704869       1.074729      2.017838\n",
       "211              191.909588    193.647977       1.738389      2.675369\n",
       "207              191.240714    194.584957       3.344243      4.950720\n",
       "193              176.789893    196.191434      19.401541     22.262919\n",
       "215              196.984891    199.052813       2.067922      2.920037\n",
       "\n",
       "[163 rows x 4 columns]"
      ]
     },
     "execution_count": 7,
     "metadata": {},
     "output_type": "execute_result"
    }
   ],
   "source": [
    "mu_queue_model.results_df"
   ]
  },
  {
   "cell_type": "markdown",
   "metadata": {},
   "source": [
    "## Different service rate distribution on M/D/n and M/D/1"
   ]
  },
  {
   "cell_type": "code",
   "execution_count": null,
   "metadata": {},
   "outputs": [],
   "source": []
  },
  {
   "cell_type": "markdown",
   "metadata": {},
   "source": [
    "## Long-tail distribution"
   ]
  },
  {
   "cell_type": "code",
   "execution_count": null,
   "metadata": {},
   "outputs": [],
   "source": []
  }
 ],
 "metadata": {
  "kernelspec": {
   "display_name": "Python 3",
   "language": "python",
   "name": "python3"
  },
  "language_info": {
   "codemirror_mode": {
    "name": "ipython",
    "version": 3
   },
   "file_extension": ".py",
   "mimetype": "text/x-python",
   "name": "python",
   "nbconvert_exporter": "python",
   "pygments_lexer": "ipython3",
   "version": "3.9.13"
  }
 },
 "nbformat": 4,
 "nbformat_minor": 2
}
