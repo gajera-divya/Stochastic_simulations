{
 "cells": [
  {
   "cell_type": "markdown",
   "metadata": {},
   "source": [
    "# DES Simulation"
   ]
  },
  {
   "cell_type": "markdown",
   "metadata": {},
   "source": [
    "This notebook generates the results used in the report for the second assignment of the course 'Stochastic Simulation'.\n",
    "\n",
    "Authors:\n",
    "\n",
    "1. Divyaben Hasmukhbhai Gajera\n",
    "- Affiliation: MSc Computational Science, University of Amsterdam\n",
    "- Email: divya.gajera@student.uva.nl\n",
    "- Student Number: 14932644\n",
    "\n",
    "2. K. López\n",
    "- Affiliation: MSc Computational Science, University of Amsterdam\n",
    "- Email: kenia.lopez.sotomayor@student.uva.nl\n",
    "- Student Number: 12965081\n",
    "\n",
    "3. T. P. Glansdorp\n",
    "- Affiliation: MSc Computational Science, University of Amsterdam\n",
    "- Email: thomas.glansdorp@student.uva.nl\n",
    "- Student Number: 12748587"
   ]
  },
  {
   "cell_type": "code",
   "execution_count": 34,
   "metadata": {},
   "outputs": [],
   "source": [
    "import simpy as sp\n",
    "import numpy as np\n",
    "import matplotlib.pyplot as plt\n",
    "import random\n",
    "import queue"
   ]
  },
  {
   "cell_type": "markdown",
   "metadata": {},
   "source": [
    "## DES program that implements FIFO scheduling case"
   ]
  },
  {
   "cell_type": "code",
   "execution_count": 30,
   "metadata": {},
   "outputs": [
    {
     "name": "stdout",
     "output_type": "stream",
     "text": [
      "New arrival at: 1.2578270096886255\n",
      "Service at time: 1.515348842498136 and empty server at: 1.7728706753076466\n",
      "New arrival at: 2.372899581601592\n",
      "New arrival at: 2.7154236586860714\n",
      "<Timeout(3.5457413506152937) object at 0x20096ffeef0>\n",
      "[1.2578270096886255, 2.372899581601592, 2.7154236586860714]\n",
      "[2.372899581601592, 2.7154236586860714]\n",
      "New arrival at: 3.6247772950116106\n",
      "Service at time: 3.7921551876266903 and empty server at: 5.211410793651789\n",
      "New arrival at: 4.9926426261458134\n",
      "New arrival at: 5.031909444451779\n",
      "New arrival at: 5.057094937468837\n",
      "New arrival at: 5.098534927742391\n",
      "New arrival at: 5.181133197044442\n",
      "New arrival at: 5.766078887894832\n",
      "New arrival at: 5.7868585047158065\n",
      "New arrival at: 6.93979562210673\n",
      "New arrival at: 7.859076938472194\n",
      "<Timeout(10.422821587303577) object at 0x20096ffee30>\n",
      "[2.372899581601592, 2.7154236586860714, 3.6247772950116106, 4.9926426261458134, 5.031909444451779, 5.057094937468837, 5.098534927742391, 5.181133197044442, 5.766078887894832, 5.7868585047158065, 6.93979562210673, 7.859076938472194]\n",
      "[2.7154236586860714, 3.6247772950116106, 4.9926426261458134, 5.031909444451779, 5.057094937468837, 5.098534927742391, 5.181133197044442, 5.766078887894832, 5.7868585047158065, 6.93979562210673, 7.859076938472194]\n",
      "Service at time: 9.394108575058207 and empty server at: 16.072793491430343\n",
      "New arrival at: 9.738074160694552\n"
     ]
    }
   ],
   "source": [
    "import simpy\n",
    "import queue\n",
    "\n",
    "def arrive(env, arrival_rate, queue):\n",
    "    while True:\n",
    "        inter_arrival_time = random.expovariate(arrival_rate)\n",
    "        yield env.timeout(inter_arrival_time)\n",
    "        queue.append(env.now)\n",
    "        print(f\"New arrival at: {env.now}\")\n",
    "\n",
    "def depart(env, service_rate, q, n):\n",
    "    time_empty_server = env.now\n",
    "    while True:\n",
    "        yield env.timeout(random.expovariate(service_rate))\n",
    "        if not len(q) == 0:\n",
    "            arrival_time = q[0]\n",
    "            wait_time = env.now - arrival_time\n",
    "            print(f\"Service at time: {env.now} and empty server at: {env.now + wait_time}\")\n",
    "            yield env.timeout(env.now + wait_time)\n",
    "            print(env.timeout(env.now + wait_time))\n",
    "            print(q)\n",
    "            q.pop(0)\n",
    "            print(q)\n",
    "\n",
    "def MMn_queue(arrival_rate, service_rate, simulation_time, n):\n",
    "    q = []\n",
    "    env = simpy.Environment()\n",
    "\n",
    "    env.process(arrive(env, arrival_rate, q))\n",
    "    env.process(depart(env, service_rate, q, n))\n",
    "\n",
    "    env.run(until=simulation_time)\n",
    "\n",
    "arrival_rate = 2.0\n",
    "service_rate = 3.0\n",
    "n = 1\n",
    "simulation_time = 10\n",
    "\n",
    "\n",
    "MMn_queue(arrival_rate, service_rate, simulation_time, n)\n",
    "\n",
    "\n"
   ]
  },
  {
   "cell_type": "code",
   "execution_count": 38,
   "metadata": {},
   "outputs": [
    {
     "ename": "TypeError",
     "evalue": "unsupported operand type(s) for /: 'float' and 'Environment'",
     "output_type": "error",
     "traceback": [
      "\u001b[1;31m---------------------------------------------------------------------------\u001b[0m",
      "\u001b[1;31mTypeError\u001b[0m                                 Traceback (most recent call last)",
      "\u001b[1;32mc:\\Users\\thoma\\OneDrive\\Documents\\GitHub\\Stochastic_simulations\\SS_Kenia_Divya_Thomas_Assignment2.ipynb Cell 6\u001b[0m line \u001b[0;36m6\n\u001b[0;32m      <a href='vscode-notebook-cell:/c%3A/Users/thoma/OneDrive/Documents/GitHub/Stochastic_simulations/SS_Kenia_Divya_Thomas_Assignment2.ipynb#X21sZmlsZQ%3D%3D?line=4'>5</a>\u001b[0m \u001b[39mwhile\u001b[39;00m \u001b[39mTrue\u001b[39;00m:\n\u001b[1;32m----> <a href='vscode-notebook-cell:/c%3A/Users/thoma/OneDrive/Documents/GitHub/Stochastic_simulations/SS_Kenia_Divya_Thomas_Assignment2.ipynb#X21sZmlsZQ%3D%3D?line=5'>6</a>\u001b[0m     inter_arrival_time \u001b[39m=\u001b[39m random\u001b[39m.\u001b[39;49mexpovariate(arrival_rate)\n\u001b[0;32m      <a href='vscode-notebook-cell:/c%3A/Users/thoma/OneDrive/Documents/GitHub/Stochastic_simulations/SS_Kenia_Divya_Thomas_Assignment2.ipynb#X21sZmlsZQ%3D%3D?line=6'>7</a>\u001b[0m     \u001b[39myield\u001b[39;00m env\u001b[39m.\u001b[39mtimeout(inter_arrival_time)\n",
      "File \u001b[1;32mC:\\Program Files\\WindowsApps\\PythonSoftwareFoundation.Python.3.10_3.10.3056.0_x64__qbz5n2kfra8p0\\lib\\random.py:654\u001b[0m, in \u001b[0;36mRandom.expovariate\u001b[1;34m(self, lambd)\u001b[0m\n\u001b[0;32m    649\u001b[0m \u001b[39m# lambd: rate lambd = 1/mean\u001b[39;00m\n\u001b[0;32m    650\u001b[0m \u001b[39m# ('lambda' is a Python reserved word)\u001b[39;00m\n\u001b[0;32m    651\u001b[0m \n\u001b[0;32m    652\u001b[0m \u001b[39m# we use 1-random() instead of random() to preclude the\u001b[39;00m\n\u001b[0;32m    653\u001b[0m \u001b[39m# possibility of taking the log of zero.\u001b[39;00m\n\u001b[1;32m--> 654\u001b[0m \u001b[39mreturn\u001b[39;00m \u001b[39m-\u001b[39;49m_log(\u001b[39m1.0\u001b[39;49m \u001b[39m-\u001b[39;49m \u001b[39mself\u001b[39;49m\u001b[39m.\u001b[39;49mrandom()) \u001b[39m/\u001b[39;49m lambd\n",
      "\u001b[1;31mTypeError\u001b[0m: unsupported operand type(s) for /: 'float' and 'Environment'",
      "\nThe above exception was the direct cause of the following exception:\n",
      "\u001b[1;31mTypeError\u001b[0m                                 Traceback (most recent call last)",
      "\u001b[1;32mc:\\Users\\thoma\\OneDrive\\Documents\\GitHub\\Stochastic_simulations\\SS_Kenia_Divya_Thomas_Assignment2.ipynb Cell 6\u001b[0m line \u001b[0;36m3\n\u001b[0;32m     <a href='vscode-notebook-cell:/c%3A/Users/thoma/OneDrive/Documents/GitHub/Stochastic_simulations/SS_Kenia_Divya_Thomas_Assignment2.ipynb#X21sZmlsZQ%3D%3D?line=34'>35</a>\u001b[0m simulation_time \u001b[39m=\u001b[39m \u001b[39m10.0\u001b[39m\n\u001b[0;32m     <a href='vscode-notebook-cell:/c%3A/Users/thoma/OneDrive/Documents/GitHub/Stochastic_simulations/SS_Kenia_Divya_Thomas_Assignment2.ipynb#X21sZmlsZQ%3D%3D?line=35'>36</a>\u001b[0m n \u001b[39m=\u001b[39m \u001b[39m1\u001b[39m\n\u001b[1;32m---> <a href='vscode-notebook-cell:/c%3A/Users/thoma/OneDrive/Documents/GitHub/Stochastic_simulations/SS_Kenia_Divya_Thomas_Assignment2.ipynb#X21sZmlsZQ%3D%3D?line=37'>38</a>\u001b[0m run_MMn_queue(arrival_rate, service_rate, n, simulation_time)\n",
      "\u001b[1;32mc:\\Users\\thoma\\OneDrive\\Documents\\GitHub\\Stochastic_simulations\\SS_Kenia_Divya_Thomas_Assignment2.ipynb Cell 6\u001b[0m line \u001b[0;36m3\n\u001b[0;32m     <a href='vscode-notebook-cell:/c%3A/Users/thoma/OneDrive/Documents/GitHub/Stochastic_simulations/SS_Kenia_Divya_Thomas_Assignment2.ipynb#X21sZmlsZQ%3D%3D?line=27'>28</a>\u001b[0m \u001b[39mdef\u001b[39;00m \u001b[39mrun_MMn_queue\u001b[39m(arrival_rate, service_rate, n, simulation_time):\n\u001b[0;32m     <a href='vscode-notebook-cell:/c%3A/Users/thoma/OneDrive/Documents/GitHub/Stochastic_simulations/SS_Kenia_Divya_Thomas_Assignment2.ipynb#X21sZmlsZQ%3D%3D?line=28'>29</a>\u001b[0m     env \u001b[39m=\u001b[39m simpy\u001b[39m.\u001b[39mEnvironment()\n\u001b[1;32m---> <a href='vscode-notebook-cell:/c%3A/Users/thoma/OneDrive/Documents/GitHub/Stochastic_simulations/SS_Kenia_Divya_Thomas_Assignment2.ipynb#X21sZmlsZQ%3D%3D?line=29'>30</a>\u001b[0m     mmn_queue \u001b[39m=\u001b[39m MMn_queue(env, arrival_rate, service_rate, n)\n\u001b[0;32m     <a href='vscode-notebook-cell:/c%3A/Users/thoma/OneDrive/Documents/GitHub/Stochastic_simulations/SS_Kenia_Divya_Thomas_Assignment2.ipynb#X21sZmlsZQ%3D%3D?line=30'>31</a>\u001b[0m     env\u001b[39m.\u001b[39mrun(until\u001b[39m=\u001b[39msimulation_time)\n",
      "\u001b[1;32mc:\\Users\\thoma\\OneDrive\\Documents\\GitHub\\Stochastic_simulations\\SS_Kenia_Divya_Thomas_Assignment2.ipynb Cell 6\u001b[0m line \u001b[0;36m3\n\u001b[0;32m     <a href='vscode-notebook-cell:/c%3A/Users/thoma/OneDrive/Documents/GitHub/Stochastic_simulations/SS_Kenia_Divya_Thomas_Assignment2.ipynb#X21sZmlsZQ%3D%3D?line=28'>29</a>\u001b[0m env\u001b[39m.\u001b[39mprocess(arrive(env, arrival_rate, q))\n\u001b[0;32m     <a href='vscode-notebook-cell:/c%3A/Users/thoma/OneDrive/Documents/GitHub/Stochastic_simulations/SS_Kenia_Divya_Thomas_Assignment2.ipynb#X21sZmlsZQ%3D%3D?line=29'>30</a>\u001b[0m env\u001b[39m.\u001b[39mprocess(depart(env, service_rate, q, n))\n\u001b[1;32m---> <a href='vscode-notebook-cell:/c%3A/Users/thoma/OneDrive/Documents/GitHub/Stochastic_simulations/SS_Kenia_Divya_Thomas_Assignment2.ipynb#X21sZmlsZQ%3D%3D?line=31'>32</a>\u001b[0m env\u001b[39m.\u001b[39;49mrun(until\u001b[39m=\u001b[39;49msimulation_time)\n",
      "File \u001b[1;32m~\\AppData\\Local\\Packages\\PythonSoftwareFoundation.Python.3.10_qbz5n2kfra8p0\\LocalCache\\local-packages\\Python310\\site-packages\\simpy\\core.py:246\u001b[0m, in \u001b[0;36mEnvironment.run\u001b[1;34m(self, until)\u001b[0m\n\u001b[0;32m    244\u001b[0m \u001b[39mtry\u001b[39;00m:\n\u001b[0;32m    245\u001b[0m     \u001b[39mwhile\u001b[39;00m \u001b[39mTrue\u001b[39;00m:\n\u001b[1;32m--> 246\u001b[0m         \u001b[39mself\u001b[39;49m\u001b[39m.\u001b[39;49mstep()\n\u001b[0;32m    247\u001b[0m \u001b[39mexcept\u001b[39;00m StopSimulation \u001b[39mas\u001b[39;00m exc:\n\u001b[0;32m    248\u001b[0m     \u001b[39mreturn\u001b[39;00m exc\u001b[39m.\u001b[39margs[\u001b[39m0\u001b[39m]  \u001b[39m# == until.value\u001b[39;00m\n",
      "File \u001b[1;32m~\\AppData\\Local\\Packages\\PythonSoftwareFoundation.Python.3.10_qbz5n2kfra8p0\\LocalCache\\local-packages\\Python310\\site-packages\\simpy\\core.py:204\u001b[0m, in \u001b[0;36mEnvironment.step\u001b[1;34m(self)\u001b[0m\n\u001b[0;32m    202\u001b[0m exc \u001b[39m=\u001b[39m \u001b[39mtype\u001b[39m(event\u001b[39m.\u001b[39m_value)(\u001b[39m*\u001b[39mevent\u001b[39m.\u001b[39m_value\u001b[39m.\u001b[39margs)\n\u001b[0;32m    203\u001b[0m exc\u001b[39m.\u001b[39m__cause__ \u001b[39m=\u001b[39m event\u001b[39m.\u001b[39m_value\n\u001b[1;32m--> 204\u001b[0m \u001b[39mraise\u001b[39;00m exc\n",
      "\u001b[1;31mTypeError\u001b[0m: unsupported operand type(s) for /: 'float' and 'Environment'"
     ]
    }
   ],
   "source": [
    "class MMnQueue:\n",
    "    def __init__(self, env, arrival_rate, service_rate, n):\n",
    "        self.queue = queue.Queue()\n",
    "        self.env = env\n",
    "        self.arrival_rate = arrival_rate\n",
    "        self.service_rate = service_rate\n",
    "        self.server = simpy.Resource(env, capacity=n)\n",
    "        self.simulation_time = simulation_time\n",
    "\n",
    "        env.process(arrive())\n",
    "        \n",
    "\n",
    "    def arrive(self):\n",
    "        while True:\n",
    "            print(self.arrival_rate)\n",
    "            inter_arrival_time = random.expovariate(self.arrival_rate)\n",
    "            yield self.env.timeout(inter_arrival_time)\n",
    "            self.queue.put(self.env.now)\n",
    "            self.env.process(self.depart())\n",
    "            \n",
    "    def depart(self):\n",
    "        with self.server.request() as request:\n",
    "            yield request\n",
    "            service_time = random.expovariate(self.service_rate)\n",
    "            yield self.env.timeout(service_time)\n",
    "\n",
    "\n",
    "def run_MMn_queue(arrival_rate, service_rate, n, simulation_time):\n",
    "    env = simpy.Environment()\n",
    "    mmn_queue = MMn_queue(env, arrival_rate, service_rate, n)\n",
    "    env.run(until=simulation_time)\n",
    "\n",
    "arrival_rate = 2.0\n",
    "service_rate = 3.0\n",
    "simulation_time = 10.0\n",
    "n = 1\n",
    "\n",
    "run_MMn_queue(arrival_rate, service_rate, n, simulation_time)"
   ]
  },
  {
   "cell_type": "markdown",
   "metadata": {},
   "source": [
    "### Statistical significance "
   ]
  },
  {
   "cell_type": "code",
   "execution_count": null,
   "metadata": {},
   "outputs": [],
   "source": []
  },
  {
   "cell_type": "markdown",
   "metadata": {},
   "source": [
    "### Numer of measurements required"
   ]
  },
  {
   "cell_type": "code",
   "execution_count": null,
   "metadata": {},
   "outputs": [],
   "source": []
  },
  {
   "cell_type": "markdown",
   "metadata": {},
   "source": [
    "## DES program that implements shortest job first case for M/M/1"
   ]
  },
  {
   "cell_type": "markdown",
   "metadata": {},
   "source": []
  },
  {
   "cell_type": "markdown",
   "metadata": {},
   "source": [
    "## Different service rate distribution on M/D/n and M/D/1"
   ]
  },
  {
   "cell_type": "code",
   "execution_count": null,
   "metadata": {},
   "outputs": [],
   "source": []
  },
  {
   "cell_type": "markdown",
   "metadata": {},
   "source": [
    "## Long-tail distribution"
   ]
  },
  {
   "cell_type": "code",
   "execution_count": null,
   "metadata": {},
   "outputs": [],
   "source": []
  }
 ],
 "metadata": {
  "kernelspec": {
   "display_name": "Python 3",
   "language": "python",
   "name": "python3"
  },
  "language_info": {
   "codemirror_mode": {
    "name": "ipython",
    "version": 3
   },
   "file_extension": ".py",
   "mimetype": "text/x-python",
   "name": "python",
   "nbconvert_exporter": "python",
   "pygments_lexer": "ipython3",
   "version": "3.10.11"
  }
 },
 "nbformat": 4,
 "nbformat_minor": 2
}
