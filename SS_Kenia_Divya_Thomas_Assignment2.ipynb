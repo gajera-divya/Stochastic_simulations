{
 "cells": [
  {
   "cell_type": "markdown",
   "metadata": {},
   "source": [
    "# DES Simulation"
   ]
  },
  {
   "cell_type": "markdown",
   "metadata": {},
   "source": [
    "This notebook generates the results used in the report for the second assignment of the course 'Stochastic Simulation'.\n",
    "\n",
    "Authors:\n",
    "\n",
    "1. Divyaben Hasmukhbhai Gajera\n",
    "- Affiliation: MSc Computational Science, University of Amsterdam\n",
    "- Email: divya.gajera@student.uva.nl\n",
    "- Student Number: 14932644\n",
    "\n",
    "2. K. López\n",
    "- Affiliation: MSc Computational Science, University of Amsterdam\n",
    "- Email: kenia.lopez.sotomayor@student.uva.nl\n",
    "- Student Number: 12965081\n",
    "\n",
    "3. T. P. Glansdorp\n",
    "- Affiliation: MSc Computational Science, University of Amsterdam\n",
    "- Email: thomas.glansdorp@student.uva.nl\n",
    "- Student Number: 12748587"
   ]
  },
  {
   "cell_type": "code",
   "execution_count": 34,
   "metadata": {},
   "outputs": [],
   "source": [
    "import simpy as sp\n",
    "import numpy as np\n",
    "import matplotlib.pyplot as plt\n",
    "import random\n",
    "import queue"
   ]
  },
  {
   "cell_type": "markdown",
   "metadata": {},
   "source": [
    "## DES program that implements FIFO scheduling case"
   ]
  },
  {
   "cell_type": "code",
   "execution_count": 30,
   "metadata": {},
   "outputs": [
    {
     "name": "stdout",
     "output_type": "stream",
     "text": [
      "New arrival at: 1.2578270096886255\n",
      "Service at time: 1.515348842498136 and empty server at: 1.7728706753076466\n",
      "New arrival at: 2.372899581601592\n",
      "New arrival at: 2.7154236586860714\n",
      "<Timeout(3.5457413506152937) object at 0x20096ffeef0>\n",
      "[1.2578270096886255, 2.372899581601592, 2.7154236586860714]\n",
      "[2.372899581601592, 2.7154236586860714]\n",
      "New arrival at: 3.6247772950116106\n",
      "Service at time: 3.7921551876266903 and empty server at: 5.211410793651789\n",
      "New arrival at: 4.9926426261458134\n",
      "New arrival at: 5.031909444451779\n",
      "New arrival at: 5.057094937468837\n",
      "New arrival at: 5.098534927742391\n",
      "New arrival at: 5.181133197044442\n",
      "New arrival at: 5.766078887894832\n",
      "New arrival at: 5.7868585047158065\n",
      "New arrival at: 6.93979562210673\n",
      "New arrival at: 7.859076938472194\n",
      "<Timeout(10.422821587303577) object at 0x20096ffee30>\n",
      "[2.372899581601592, 2.7154236586860714, 3.6247772950116106, 4.9926426261458134, 5.031909444451779, 5.057094937468837, 5.098534927742391, 5.181133197044442, 5.766078887894832, 5.7868585047158065, 6.93979562210673, 7.859076938472194]\n",
      "[2.7154236586860714, 3.6247772950116106, 4.9926426261458134, 5.031909444451779, 5.057094937468837, 5.098534927742391, 5.181133197044442, 5.766078887894832, 5.7868585047158065, 6.93979562210673, 7.859076938472194]\n",
      "Service at time: 9.394108575058207 and empty server at: 16.072793491430343\n",
      "New arrival at: 9.738074160694552\n"
     ]
    }
   ],
   "source": [
    "import simpy\n",
    "import queue\n",
    "\n",
    "def arrive(env, arrival_rate, queue):\n",
    "    while True:\n",
    "        inter_arrival_time = random.expovariate(arrival_rate)\n",
    "        yield env.timeout(inter_arrival_time)\n",
    "        queue.append(env.now)\n",
    "        print(f\"New arrival at: {env.now}\")\n",
    "\n",
    "def depart(env, service_rate, q, n):\n",
    "    time_empty_server = env.now\n",
    "    while True:\n",
    "        yield env.timeout(random.expovariate(service_rate))\n",
    "        if not len(q) == 0:\n",
    "            arrival_time = q[0]\n",
    "            wait_time = env.now - arrival_time\n",
    "            print(f\"Service at time: {env.now} and empty server at: {env.now + wait_time}\")\n",
    "            yield env.timeout(env.now + wait_time)\n",
    "            print(env.timeout(env.now + wait_time))\n",
    "            print(q)\n",
    "            q.pop(0)\n",
    "            print(q)\n",
    "\n",
    "def MMn_queue(arrival_rate, service_rate, simulation_time, n):\n",
    "    q = []\n",
    "    env = simpy.Environment()\n",
    "\n",
    "    env.process(arrive(env, arrival_rate, q))\n",
    "    env.process(depart(env, service_rate, q, n))\n",
    "\n",
    "    env.run(until=simulation_time)\n",
    "\n",
    "arrival_rate = 2.0\n",
    "service_rate = 3.0\n",
    "n = 1\n",
    "simulation_time = 10\n",
    "\n",
    "\n",
    "MMn_queue(arrival_rate, service_rate, simulation_time, n)\n",
    "\n",
    "\n"
   ]
  },
  {
   "cell_type": "code",
   "execution_count": 66,
   "metadata": {},
   "outputs": [],
   "source": [
    "class MMnFIFOQueue:\n",
    "    def __init__(self, env, arrival_rate, service_rate, n):\n",
    "        self.env = env\n",
    "        self.server = simpy.Resource(env, capacity=n)\n",
    "        self.arrival_rate = arrival_rate\n",
    "        self.service_rate = service_rate\n",
    "        self.queue = queue.Queue()\n",
    "\n",
    "        env.process(self.arrive())\n",
    "        \n",
    "\n",
    "    def arrive(self):\n",
    "        while True:\n",
    "            inter_arrival_time = random.expovariate(self.arrival_rate)\n",
    "            yield self.env.timeout(inter_arrival_time)\n",
    "            self.env.process(self.depart())\n",
    "            \n",
    "    def depart(self):\n",
    "        with self.server.request() as request:\n",
    "            yield request\n",
    "            service_time = random.expovariate(self.service_rate)\n",
    "            yield self.env.timeout(service_time)\n",
    "\n",
    "\n",
    "def run_MMn_FIFO_queue(arrival_rate, service_rate, n, simulation_time):\n",
    "    env = simpy.Environment()\n",
    "    mmn_queue = MMnFIFOQueue(env, arrival_rate, service_rate, n)\n",
    "    env.run(until=simulation_time)\n"
   ]
  },
  {
   "cell_type": "code",
   "execution_count": 67,
   "metadata": {},
   "outputs": [],
   "source": [
    "arrival_rate = 2.0\n",
    "service_rate = 3.0\n",
    "simulation_time = 10.0\n",
    "n = 1\n",
    "\n",
    "run_MMn_FIFO_queue(arrival_rate, service_rate, n, simulation_time)"
   ]
  },
  {
   "cell_type": "markdown",
   "metadata": {},
   "source": [
    "### Statistical significance "
   ]
  },
  {
   "cell_type": "code",
   "execution_count": null,
   "metadata": {},
   "outputs": [],
   "source": []
  },
  {
   "cell_type": "markdown",
   "metadata": {},
   "source": [
    "### Numer of measurements required"
   ]
  },
  {
   "cell_type": "code",
   "execution_count": null,
   "metadata": {},
   "outputs": [],
   "source": []
  },
  {
   "cell_type": "markdown",
   "metadata": {},
   "source": [
    "## DES program that implements shortest job first case for M/M/1"
   ]
  },
  {
   "cell_type": "markdown",
   "metadata": {},
   "source": []
  },
  {
   "cell_type": "code",
   "execution_count": 64,
   "metadata": {},
   "outputs": [],
   "source": [
    "class MMnSJFQueue:\n",
    "    def __init__(self, env, arrival_rate, service_rate, n):\n",
    "        self.env = env\n",
    "        self.server = simpy.Resource(env, capacity=n)\n",
    "        self.arrival_rate = arrival_rate\n",
    "        self.service_rate = service_rate\n",
    "        self.queue = simpy.PriorityStore(env)\n",
    "\n",
    "        env.process(self.arrive())\n",
    "        \n",
    "\n",
    "    def arrive(self):\n",
    "        while True:\n",
    "            inter_arrival_time = random.expovariate(self.arrival_rate)\n",
    "            yield self.env.timeout(inter_arrival_time)\n",
    "            self.queue.put(self.env.now)\n",
    "            self.env.process(self.depart())\n",
    "            \n",
    "    def depart(self):\n",
    "        with self.server.request() as request:\n",
    "            yield request\n",
    "            service_time = random.expovariate(self.service_rate)\n",
    "            yield self.env.timeout(service_time)\n",
    "\n",
    "\n",
    "def run_MMn_SJF_queue(arrival_rate, service_rate, n, simulation_time):\n",
    "    env = simpy.Environment()\n",
    "    mmn_queue = MMnSJFQueue(env, arrival_rate, service_rate, n)\n",
    "    env.run(until=simulation_time)"
   ]
  },
  {
   "cell_type": "code",
   "execution_count": 65,
   "metadata": {},
   "outputs": [],
   "source": [
    "arrival_rate = 2.0\n",
    "service_rate = 3.0\n",
    "simulation_time = 10.0\n",
    "n = 1\n",
    "\n",
    "run_MMn_SJF_queue(arrival_rate, service_rate, n, simulation_time)"
   ]
  },
  {
   "cell_type": "markdown",
   "metadata": {},
   "source": [
    "## Different service rate distribution on M/D/n and M/D/1"
   ]
  },
  {
   "cell_type": "code",
   "execution_count": null,
   "metadata": {},
   "outputs": [],
   "source": []
  },
  {
   "cell_type": "markdown",
   "metadata": {},
   "source": [
    "## Long-tail distribution"
   ]
  },
  {
   "cell_type": "code",
   "execution_count": null,
   "metadata": {},
   "outputs": [],
   "source": []
  }
 ],
 "metadata": {
  "kernelspec": {
   "display_name": "Python 3",
   "language": "python",
   "name": "python3"
  },
  "language_info": {
   "codemirror_mode": {
    "name": "ipython",
    "version": 3
   },
   "file_extension": ".py",
   "mimetype": "text/x-python",
   "name": "python",
   "nbconvert_exporter": "python",
   "pygments_lexer": "ipython3",
   "version": "3.10.11"
  }
 },
 "nbformat": 4,
 "nbformat_minor": 2
}
