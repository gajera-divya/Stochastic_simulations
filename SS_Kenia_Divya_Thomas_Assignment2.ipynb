{
 "cells": [
  {
   "cell_type": "markdown",
   "metadata": {},
   "source": [
    "# DES Simulation"
   ]
  },
  {
   "cell_type": "markdown",
   "metadata": {},
   "source": [
    "This notebook generates the results used in the report for the second assignment of the course 'Stochastic Simulation'.\n",
    "\n",
    "Authors:\n",
    "\n",
    "1. Divyaben Hasmukhbhai Gajera\n",
    "- Affiliation: MSc Computational Science, University of Amsterdam\n",
    "- Email: divya.gajera@student.uva.nl\n",
    "- Student Number: 14932644\n",
    "\n",
    "2. K. López\n",
    "- Affiliation: MSc Computational Science, University of Amsterdam\n",
    "- Email: kenia.lopez.sotomayor@student.uva.nl\n",
    "- Student Number: 12965081\n",
    "\n",
    "3. T. P. Glansdorp\n",
    "- Affiliation: MSc Computational Science, University of Amsterdam\n",
    "- Email: thomas.glansdorp@student.uva.nl\n",
    "- Student Number: 12748587"
   ]
  },
  {
   "cell_type": "code",
   "execution_count": 34,
   "metadata": {},
   "outputs": [],
   "source": [
    "import simpy as sp\n",
    "import numpy as np\n",
    "import matplotlib.pyplot as plt\n",
    "import random\n",
    "import queue"
   ]
  },
  {
   "cell_type": "markdown",
   "metadata": {},
   "source": [
    "## DES program that implements FIFO scheduling case"
   ]
  },
  {
   "cell_type": "code",
   "execution_count": 96,
   "metadata": {},
   "outputs": [],
   "source": [
    "class MMnFIFOQueue:\n",
    "    def __init__(self, env, arrival_rate, service_rate, n):\n",
    "        self.env = env\n",
    "        self.server = sp.Resource(env, capacity=n)\n",
    "        self.arrival_rate = arrival_rate\n",
    "        self.service_rate = service_rate\n",
    "        self.queue = []\n",
    "\n",
    "        env.process(self.arrive())\n",
    "        \n",
    "\n",
    "    def arrive(self):\n",
    "        customer_count = 0\n",
    "        while True:\n",
    "            inter_arrival_time = random.expovariate(self.arrival_rate)\n",
    "            yield self.env.timeout(inter_arrival_time)\n",
    "            self.queue.append(self.env.now)\n",
    "            customer_count += 1\n",
    "            self.env.process(self.depart(customer_count))\n",
    "            print(f\"Customer {customer_count} arrived at {self.env.now}\")\n",
    "\n",
    "            \n",
    "    def depart(self, customer_count):\n",
    "        print(self.queue)\n",
    "        with self.server.request() as request:\n",
    "            yield request\n",
    "            service_time = random.expovariate(self.service_rate)\n",
    "            yield self.env.timeout(service_time)\n",
    "            self.queue.pop(0)\n",
    "            print(f\"Customer {customer_count} departed at {self.env.now} with wait_time of {service_time}\")\n",
    "\n",
    "\n",
    "def run_MMn_FIFO_queue(arrival_rate, service_rate, n, simulation_time):\n",
    "    env = sp.Environment()\n",
    "    mmn_queue = MMnFIFOQueue(env, arrival_rate, service_rate, n)\n",
    "    env.run(until=simulation_time)\n"
   ]
  },
  {
   "cell_type": "code",
   "execution_count": 80,
   "metadata": {},
   "outputs": [
    {
     "ename": "NameError",
     "evalue": "name 'run_MMn_FIFO_queue' is not defined",
     "output_type": "error",
     "traceback": [
      "\u001b[1;31m---------------------------------------------------------------------------\u001b[0m",
      "\u001b[1;31mNameError\u001b[0m                                 Traceback (most recent call last)",
      "\u001b[1;32m~\\AppData\\Local\\Temp\\ipykernel_12956\\3885890748.py\u001b[0m in \u001b[0;36m<module>\u001b[1;34m\u001b[0m\n\u001b[0;32m      4\u001b[0m \u001b[0mn\u001b[0m \u001b[1;33m=\u001b[0m \u001b[1;36m2\u001b[0m\u001b[1;33m\u001b[0m\u001b[1;33m\u001b[0m\u001b[0m\n\u001b[0;32m      5\u001b[0m \u001b[1;33m\u001b[0m\u001b[0m\n\u001b[1;32m----> 6\u001b[1;33m \u001b[0mrun_MMn_FIFO_queue\u001b[0m\u001b[1;33m(\u001b[0m\u001b[0marrival_rate\u001b[0m\u001b[1;33m,\u001b[0m \u001b[0mservice_rate\u001b[0m\u001b[1;33m,\u001b[0m \u001b[0mn\u001b[0m\u001b[1;33m,\u001b[0m \u001b[0msimulation_time\u001b[0m\u001b[1;33m)\u001b[0m\u001b[1;33m\u001b[0m\u001b[1;33m\u001b[0m\u001b[0m\n\u001b[0m",
      "\u001b[1;31mNameError\u001b[0m: name 'run_MMn_FIFO_queue' is not defined"
     ]
    }
   ],
   "source": [
    "arrival_rate = 2.0\n",
    "service_rate = 3.0\n",
    "simulation_time = 10.0\n",
    "n = 2\n",
    "\n",
    "run_MMn_FIFO_queue(arrival_rate, service_rate, n, simulation_time)"
   ]
  },
  {
   "cell_type": "code",
   "execution_count": 82,
   "metadata": {},
   "outputs": [],
   "source": [
    "import simpy as sm\n",
    "import random\n",
    "import pandas as pd\n",
    "import csv\n",
    "import warnings\n",
    "warnings.simplefilter(action='ignore', category=FutureWarning)\n",
    "import numpy as np\n",
    "import matplotlib.pyplot as plt"
   ]
  },
  {
   "cell_type": "markdown",
   "metadata": {},
   "source": []
  },
  {
   "cell_type": "code",
   "execution_count": 122,
   "metadata": {},
   "outputs": [],
   "source": [
    "class g:\n",
    "    arrival_rate = 1\n",
    "    service_rate = 2\n",
    "    number_of_servers = 1\n",
    "    sim_duration = 300\n",
    "    number_of_runs = 10\n",
    "\n",
    "class Customer:\n",
    "    def __init__(self, customer_id):\n",
    "        self.id = customer_id\n",
    "        self.queue_time = 0\n",
    "\n",
    "class Queue:\n",
    "    \n",
    "    def __init__(self, run_number, queue_type):\n",
    "        self.env = sm.Environment()\n",
    "        self.server = sm.Resource(self.env, capacity=g.number_of_servers)\n",
    "        self.run_number = run_number\n",
    "        self.queue_type = queue_type\n",
    "        self.customer_counter = 0\n",
    "        self.mean_queue_time = 0\n",
    "        self.mean_system_time = 0\n",
    "        self.mean_service_time = 0\n",
    "        #self.file_name = file_name\n",
    "        columns = [\"Customer ID\", \"Start Queueing\", \"End Queueing\", \"Queueing Time\", \"Sojourn Time\", \"Service Time\"] \n",
    "        self.results_df = pd.DataFrame(columns=columns)\n",
    "        self.results_df.set_index(\"Customer ID\", inplace=True)\n",
    "        \n",
    "    \n",
    "    # Method that generates customers arrivals\n",
    "    def generate_arrivals(self):\n",
    "        while True:\n",
    "            self.customer_counter += 1\n",
    "            cp = Customer(self.customer_counter)\n",
    "            # Run activity generator for this customer\n",
    "            self.env.process(self.create_queue(cp))\n",
    "\n",
    "            # sample time until next customer\n",
    "            t = random.expovariate(g.arrival_rate)\n",
    "\n",
    "            # Freeze untill that time has passed\n",
    "            yield self.env.timeout(t)\n",
    "            \n",
    "    def create_queue(self, customer):\n",
    "        start_queue = self.env.now\n",
    "        \n",
    "        # Request a server\n",
    "        with self.server.request() as req:\n",
    "            # Freeze until the request can be met \n",
    "            yield req\n",
    "            \n",
    "            # Sample time spent in server\n",
    "            if self.queue_type == \"MMn\":\n",
    "                sampled_service_time = random.expovariate(g.service_rate)\n",
    "            elif self.queue_type == \"MDn\":\n",
    "                sampled_service_time = 1/2\n",
    "            \n",
    "            end_queue = self.env.now\n",
    "            \n",
    "            # Freeze until that time has passed\n",
    "            yield self.env.timeout(sampled_service_time)\n",
    "            \n",
    "            # Calculate time customer was queueing\n",
    "            out_of_system = self.env.now\n",
    "            sojourn_time = out_of_system - start_queue\n",
    "            customer.queue_time = end_queue - start_queue\n",
    "            df_to_add = pd.DataFrame({\"Customer ID\":[customer.id], \"Start Queueing\": [start_queue],\n",
    "                                     \"End Queueing\": [end_queue], \"Queueing Time\": [customer.queue_time],\n",
    "                                     \"Sojourn Time\": [sojourn_time], \"Service Time\":[sampled_service_time]})\n",
    "            df_to_add.set_index(\"Customer ID\", inplace=True)\n",
    "            self.results_df = self.results_df.append(df_to_add)\n",
    "            \n",
    "    def calculate_mean_times(self):\n",
    "        self.mean_queue_time = self.results_df[\"Queueing Time\"].mean()\n",
    "        self.mean_system_time = self.results_df[\"Sojourn Time\"].mean()\n",
    "        self.mean_service_time = self.results_df[\"Service Time\"].mean()\n",
    "        \n",
    "    def write_run_results(self):\n",
    "        with open(self.file_name, \"a\") as f:\n",
    "            writer = csv.writer(f, delimiter=\",\")\n",
    "            results_to_write = [self.run_number, self.mean_queue_time]\n",
    "            writer.writerow(results_to_write)\n",
    "            \n",
    "    def run(self):\n",
    "        self.env.process(self.generate_arrivals())\n",
    "        self.env.run(until=g.sim_duration)\n",
    "        # Calculate run results\n",
    "        self.calculate_mean_times()\n",
    "        #self.write_run_results()\n",
    "        "
   ]
  },
  {
   "cell_type": "code",
   "execution_count": 84,
   "metadata": {},
   "outputs": [],
   "source": [
    "def calculate_CI(data):\n",
    "    \n",
    "    sigma = data.std()\n",
    "    x_bar = data.mean()\n",
    "    CI = (x_bar - (1.96*sigma/np.sqrt(data.shape[0])), x_bar + (1.96*sigma/np.sqrt(data.shape[0])))\n",
    "    \n",
    "    return CI"
   ]
  },
  {
   "cell_type": "code",
   "execution_count": 95,
   "metadata": {},
   "outputs": [],
   "source": [
    "def estimate_waiting_times(type_queue, RHO, MU, n):\n",
    "    \n",
    "    mean_queue = []\n",
    "    mean_sojourn = []\n",
    "    mean_service = []\n",
    "    for rho in RHO:\n",
    "        temp_mean_queue_run = []\n",
    "        temp_sj = []\n",
    "        temp_serice = []\n",
    "        g.arrival_rate = MU*rho\n",
    "        g.service_rate = MU\n",
    "        g.number_of_servers = n\n",
    "        g.number_of_runs = 100\n",
    "        for run in range(g.number_of_runs):\n",
    "            queue_model = Queue(run, type_queue)\n",
    "            queue_model.run()\n",
    "            temp_mean_queue_run.append(queue_model.mean_queue_time)\n",
    "            temp_sj.append(queue_model.mean_system_time)\n",
    "            temp_serice.append(queue_model.mean_service_time)\n",
    "        mean_queue.append(np.array(temp_mean_queue_run).mean(axis=0))\n",
    "        mean_sojourn.append(np.array(temp_sj).mean(axis = 0))\n",
    "        mean_service.append(np.array(temp_serice).mean(axis=0))\n",
    "    \n",
    "    return mean_queue, mean_sojourn, mean_service"
   ]
  },
  {
   "cell_type": "code",
   "execution_count": 96,
   "metadata": {},
   "outputs": [],
   "source": [
    "MU = 4\n",
    "RHO = [0.1, 0.2, 0.3, 0.4, 0.45, 0.5, 0.55, 0.6, 0.65, 0.7, 0.75, 0.8, 0.85, 0.9, 0.95, 1.0]\n",
    "num_sim = [5, 10, 25, 50, 100, 150, 500, 1000]"
   ]
  },
  {
   "cell_type": "code",
   "execution_count": 97,
   "metadata": {},
   "outputs": [],
   "source": [
    "est_mean, est_sojourn, est_service = estimate_waiting_times(\"MMn\", RHO, MU, 1)"
   ]
  },
  {
   "cell_type": "code",
   "execution_count": 115,
   "metadata": {},
   "outputs": [
    {
     "data": {
      "image/png": "[encoded data removed]",
      "text/plain": [
       "<Figure size 640x480 with 1 Axes>"
      ]
     },
     "metadata": {},
     "output_type": "display_data"
    }
   ],
   "source": [
    "plt.plot(RHO, np.array(est_mean)/np.array(est_service),\"*-\", label= \"in Queue\")\n",
    "plt.plot(RHO, np.array(est_sojourn)/np.array(est_service), \"*-\", label=\"in System\")\n",
    "plt.xlabel(\"Rho\")\n",
    "plt.ylabel(\"Waiting Time Factor\")\n",
    "plt.legend()\n",
    "plt.show()"
   ]
  },
  {
   "cell_type": "code",
   "execution_count": 107,
   "metadata": {},
   "outputs": [],
   "source": [
    "est_mean_2, est_sojourn_2, est_service_2 = estimate_waiting_times(\"MMn\", RHO, MU, 2)\n",
    "    "
   ]
  },
  {
   "cell_type": "code",
   "execution_count": 108,
   "metadata": {},
   "outputs": [],
   "source": [
    "est_mean_4, est_sojourn_4, est_service_4 = estimate_waiting_times(\"MMn\", RHO, MU, 4)"
   ]
  },
  {
   "cell_type": "code",
   "execution_count": 109,
   "metadata": {},
   "outputs": [
    {
     "data": {
      "image/png": "[encoded data removed]",
      "text/plain": [
       "<Figure size 640x480 with 1 Axes>"
      ]
     },
     "metadata": {},
     "output_type": "display_data"
    }
   ],
   "source": [
    "plt.plot(RHO, est_mean_2, label=\"n=2\")\n",
    "plt.plot(RHO, est_mean_4, label=\"n=4\")\n",
    "plt.plot(RHO, est_mean, label=\"n=1\")\n",
    "plt.legend()\n",
    "plt.xlabel(\"Rho\")\n",
    "plt.ylabel(\"Avg Waiting Time\")\n",
    "plt.show()"
   ]
  },
  {
   "cell_type": "code",
   "execution_count": 123,
   "metadata": {},
   "outputs": [],
   "source": [
    "est_mean_MDn_1, est_sojourn_MDn_1, est_service_MDn_1 = estimate_waiting_times(\"MDn\", RHO, MU, 1)\n",
    "est_mean_MDn_2, est_sojourn_MDn_2, est_service_MDn_2 = estimate_waiting_times(\"MDn\", RHO, MU, 2)\n",
    "est_mean_MDn_4, est_sojourn_MDn_4, est_service_MDn_4 = estimate_waiting_times(\"MDn\", RHO, MU, 4)"
   ]
  },
  {
   "cell_type": "code",
   "execution_count": 124,
   "metadata": {},
   "outputs": [
    {
     "data": {
      "image/png": "[encoded data removed]",
      "text/plain": [
       "<Figure size 640x480 with 1 Axes>"
      ]
     },
     "metadata": {},
     "output_type": "display_data"
    }
   ],
   "source": [
    "plt.plot(RHO, np.array(est_mean_MDn_2)/np.array(est_service_MDn_2), label=\"n=2\")\n",
    "plt.plot(RHO, np.array(est_mean_MDn_4)/np.array(est_service_MDn_4), label=\"n=4\")\n",
    "plt.plot(RHO, np.array(est_mean_MDn_1)/np.array(est_service_MDn_1), label=\"n=1\")\n",
    "plt.legend()\n",
    "plt.xlabel(\"Rho\")\n",
    "plt.ylabel(\"Avg Waiting Time\")\n",
    "plt.show()"
   ]
  },
  {
   "cell_type": "markdown",
   "metadata": {},
   "source": [
    "### Numer of measurements required"
   ]
  },
  {
   "cell_type": "code",
   "execution_count": null,
   "metadata": {},
   "outputs": [],
   "source": []
  },
  {
   "cell_type": "markdown",
   "metadata": {},
   "source": [
    "## DES program that implements shortest job first case for M/M/1"
   ]
  },
  {
   "cell_type": "code",
   "execution_count": 5,
   "metadata": {},
   "outputs": [],
   "source": [
    "class SJF_queue:\n",
    "    \n",
    "    def __init__(self, run_number):\n",
    "        self.env = sm.Environment()\n",
    "        self.customer_counter = 0\n",
    "        self.server = sm.PriorityResource(self.env, capacity=g.number_of_servers)\n",
    "        self.run_number = run_number\n",
    "        self.mean_queue_time = 0\n",
    "        self.mean_system_time = 0\n",
    "        self.mean_service_time = 0\n",
    "        self.results_df = pd.DataFrame()\n",
    "        columns = [\"Customer ID\", \"Start Queueing\", \"End Queueing\", \"Queueing Time\", \"Sojourn Time\", \"Service Time\"] \n",
    "        self.results_df = pd.DataFrame(columns=columns)\n",
    "        self.results_df.set_index(\"Customer ID\", inplace=True)\n",
    "        \n",
    "    \n",
    "    # Method that generates customers arrivals\n",
    "    def generate_arrivals(self):\n",
    "        while True:\n",
    "            self.customer_counter += 1\n",
    "            cp = Customer(self.customer_counter)\n",
    "            # Run activity generator for this customer\n",
    "            self.env.process(self.create_queue(cp))\n",
    "\n",
    "            # sample time until next customer\n",
    "            t = random.expovariate(1.0/g.arrival_rate)\n",
    "\n",
    "            # Freezr untill that time has passed\n",
    "            yield self.env.timeout(t)\n",
    "            \n",
    "    def create_queue(self, customer):\n",
    "        start_queue = self.env.now\n",
    "        # Request a server\n",
    "        sampled_service_time = random.expovariate(1.0/g.service_rate)\n",
    "        with self.server.request(priority = int(sampled_service_time)) as req:\n",
    "            # Freeze until the request can be met \n",
    "            yield req  \n",
    "            \n",
    "            end_queue = self.env.now\n",
    "\n",
    "            # Freeze until that time has passed\n",
    "            yield self.env.timeout(sampled_service_time)\n",
    "            \n",
    "            # Calculate time customer was queueing\n",
    "            out_of_system = self.env.now\n",
    "            sojourn_time = out_of_system - start_queue\n",
    "            customer.queue_time = end_queue - start_queue\n",
    "            df_to_add = pd.DataFrame({\"Customer ID\":[customer.id], \"Start Queueing\": [start_queue],\n",
    "                                     \"End Queueing\": [end_queue], \"Queueing Time\": [customer.queue_time],\n",
    "                                     \"Sojourn Time\": [sojourn_time], \"Service Time\":[sampled_service_time]})\n",
    "            df_to_add.set_index(\"Customer ID\", inplace=True)\n",
    "            self.results_df = self.results_df.append(df_to_add)\n",
    "            \n",
    "    def calculate_mean_waiting_times(self):\n",
    "        self.mean_queue_time = self.results_df[\"Queueing Time\"].mean()\n",
    "        self.mean_system_time = self.results_df[\"Sojourn Time\"].mean()\n",
    "        self.mean_service_time = self.results_df[\"Service Time\"].mean()\n",
    "        \n",
    "    def write_run_results(self):\n",
    "        with open(\"trial_results.csv\", \"a\") as f:\n",
    "            writer = csv.writer(f, delimiter=\",\")\n",
    "            results_to_write = [self.run_number, self.mean_queue_time]\n",
    "            writer.writerow(results_to_write)\n",
    "            \n",
    "    def run(self):\n",
    "        self.env.process(self.generate_arrivals())\n",
    "        self.env.run(until=g.sim_duration)\n",
    "        # Calculate run results\n",
    "        self.calculate_mean_queue_time()\n",
    "        #self.write_run_results()\n",
    "      \n"
   ]
  },
  {
   "cell_type": "code",
   "execution_count": null,
   "metadata": {},
   "outputs": [],
   "source": [
    "def estimate_waiting_times_SJF(RHO, MU, n):\n",
    "    \n",
    "    mean_queue = []\n",
    "    mean_sojourn = []\n",
    "    mean_service = []\n",
    "    for rho in RHO:\n",
    "        temp_mean_queue_run = []\n",
    "        temp_sj = []\n",
    "        temp_serice = []\n",
    "        g.arrival_rate = MU*rho\n",
    "        g.service_rate = MU\n",
    "        g.number_of_servers = n\n",
    "        g.number_of_runs = 200\n",
    "        for run in range(g.number_of_runs):\n",
    "            queue_model = SJF_queue(run)\n",
    "            queue_model.run()\n",
    "            temp_mean_queue_run.append(queue_model.mean_queue_time)\n",
    "            temp_sj.append(queue_model.mean_system_time)\n",
    "        mean_queue.append(np.array(temp_mean_queue_run).mean(axis=0))\n",
    "        mean_sojourn.append(np.array(temp_sj).mean(axis = 0))\n",
    "    \n",
    "    return mean_queue, mean_sojourn, mean_service"
   ]
  },
  {
   "cell_type": "code",
   "execution_count": null,
   "metadata": {},
   "outputs": [],
   "source": []
  },
  {
   "cell_type": "markdown",
   "metadata": {},
   "source": [
    "## Different service rate distribution on M/D/n and M/D/1"
   ]
  },
  {
   "cell_type": "code",
   "execution_count": null,
   "metadata": {},
   "outputs": [],
   "source": []
  },
  {
   "cell_type": "markdown",
   "metadata": {},
   "source": [
    "## Long-tail distribution"
   ]
  },
  {
   "cell_type": "code",
   "execution_count": null,
   "metadata": {},
   "outputs": [],
   "source": []
  }
 ],
 "metadata": {
  "kernelspec": {
   "display_name": "Python 3",
   "language": "python",
   "name": "python3"
  },
  "language_info": {
   "codemirror_mode": {
    "name": "ipython",
    "version": 3
   },
   "file_extension": ".py",
   "mimetype": "text/x-python",
   "name": "python",
   "nbconvert_exporter": "python",
   "pygments_lexer": "ipython3",
   "version": "3.9.13"
  }
 },
 "nbformat": 4,
 "nbformat_minor": 2
}
