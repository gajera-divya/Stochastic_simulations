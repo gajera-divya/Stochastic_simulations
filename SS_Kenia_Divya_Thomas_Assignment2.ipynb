{
 "cells": [
  {
   "cell_type": "markdown",
   "metadata": {},
   "source": [
    "# DES Simulation"
   ]
  },
  {
   "cell_type": "markdown",
   "metadata": {},
   "source": [
    "This notebook generates the results used in the report for the second assignment of the course 'Stochastic Simulation'.\n",
    "\n",
    "Authors:\n",
    "\n",
    "1. Divyaben Hasmukhbhai Gajera\n",
    "- Affiliation: MSc Computational Science, University of Amsterdam\n",
    "- Email: divya.gajera@student.uva.nl\n",
    "- Student Number: 14932644\n",
    "\n",
    "2. K. López\n",
    "- Affiliation: MSc Computational Science, University of Amsterdam\n",
    "- Email: kenia.lopez.sotomayor@student.uva.nl\n",
    "- Student Number: 12965081\n",
    "\n",
    "3. T. P. Glansdorp\n",
    "- Affiliation: MSc Computational Science, University of Amsterdam\n",
    "- Email: thomas.glansdorp@student.uva.nl\n",
    "- Student Number: 12748587"
   ]
  },
  {
   "cell_type": "code",
   "execution_count": null,
   "metadata": {},
   "outputs": [],
   "source": [
    "import simpy as sp\n",
    "import numpy as np\n",
    "import matplotlib.pyplot as plt"
   ]
  },
  {
   "cell_type": "markdown",
   "metadata": {},
   "source": [
    "## DES program that implements FIFO scheduling case"
   ]
  },
  {
   "cell_type": "code",
   "execution_count": null,
   "metadata": {},
   "outputs": [],
   "source": []
  },
  {
   "cell_type": "markdown",
   "metadata": {},
   "source": [
    "### Statistical significance "
   ]
  },
  {
   "cell_type": "code",
   "execution_count": null,
   "metadata": {},
   "outputs": [],
   "source": []
  },
  {
   "cell_type": "markdown",
   "metadata": {},
   "source": [
    "### Numer of measurements required"
   ]
  },
  {
   "cell_type": "code",
   "execution_count": null,
   "metadata": {},
   "outputs": [],
   "source": []
  },
  {
   "cell_type": "markdown",
   "metadata": {},
   "source": [
    "## DES program that implements shortest job first case for M/M/1"
   ]
  },
  {
   "cell_type": "markdown",
   "metadata": {},
   "source": []
  },
  {
   "cell_type": "markdown",
   "metadata": {},
   "source": [
    "## Different service rate distribution on M/D/n and M/D/1"
   ]
  },
  {
   "cell_type": "code",
   "execution_count": null,
   "metadata": {},
   "outputs": [],
   "source": []
  },
  {
   "cell_type": "markdown",
   "metadata": {},
   "source": [
    "## Long-tail distribution"
   ]
  },
  {
   "cell_type": "code",
   "execution_count": null,
   "metadata": {},
   "outputs": [],
   "source": []
  }
 ],
 "metadata": {
  "language_info": {
   "name": "python"
  }
 },
 "nbformat": 4,
 "nbformat_minor": 2
}
