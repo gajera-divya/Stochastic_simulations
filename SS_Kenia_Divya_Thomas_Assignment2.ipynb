{
 "cells": [
  {
   "cell_type": "markdown",
   "metadata": {},
   "source": [
    "# DES Simulation"
   ]
  },
  {
   "cell_type": "markdown",
   "metadata": {},
   "source": [
    "This notebook generates the results used in the report for the second assignment of the course 'Stochastic Simulation'.\n",
    "\n",
    "Authors:\n",
    "\n",
    "1. Divyaben Hasmukhbhai Gajera\n",
    "- Affiliation: MSc Computational Science, University of Amsterdam\n",
    "- Email: divya.gajera@student.uva.nl\n",
    "- Student Number: 14932644\n",
    "\n",
    "2. K. López\n",
    "- Affiliation: MSc Computational Science, University of Amsterdam\n",
    "- Email: kenia.lopez.sotomayor@student.uva.nl\n",
    "- Student Number: 12965081\n",
    "\n",
    "3. T. P. Glansdorp\n",
    "- Affiliation: MSc Computational Science, University of Amsterdam\n",
    "- Email: thomas.glansdorp@student.uva.nl\n",
    "- Student Number: 12748587"
   ]
  },
  {
   "cell_type": "code",
   "execution_count": 34,
   "metadata": {},
   "outputs": [],
   "source": [
    "import simpy as sp\n",
    "import numpy as np\n",
    "import matplotlib.pyplot as plt\n",
    "import random\n",
    "import queue"
   ]
  },
  {
   "cell_type": "markdown",
   "metadata": {},
   "source": [
    "## DES program that implements FIFO scheduling case"
   ]
  },
  {
   "cell_type": "code",
   "execution_count": 96,
   "metadata": {},
   "outputs": [],
   "source": [
    "class MMnFIFOQueue:\n",
    "    def __init__(self, env, arrival_rate, service_rate, n):\n",
    "        self.env = env\n",
    "        self.server = sp.Resource(env, capacity=n)\n",
    "        self.arrival_rate = arrival_rate\n",
    "        self.service_rate = service_rate\n",
    "        self.queue = []\n",
    "\n",
    "        env.process(self.arrive())\n",
    "        \n",
    "\n",
    "    def arrive(self):\n",
    "        customer_count = 0\n",
    "        while True:\n",
    "            inter_arrival_time = random.expovariate(self.arrival_rate)\n",
    "            yield self.env.timeout(inter_arrival_time)\n",
    "            self.queue.append(self.env.now)\n",
    "            customer_count += 1\n",
    "            self.env.process(self.depart(customer_count))\n",
    "            print(f\"Customer {customer_count} arrived at {self.env.now}\")\n",
    "\n",
    "            \n",
    "    def depart(self, customer_count):\n",
    "        print(self.queue)\n",
    "        with self.server.request() as request:\n",
    "            yield request\n",
    "            service_time = random.expovariate(self.service_rate)\n",
    "            yield self.env.timeout(service_time)\n",
    "            self.queue.pop(0)\n",
    "            print(f\"Customer {customer_count} departed at {self.env.now} with wait_time of {service_time}\")\n",
    "\n",
    "\n",
    "def run_MMn_FIFO_queue(arrival_rate, service_rate, n, simulation_time):\n",
    "    env = sp.Environment()\n",
    "    mmn_queue = MMnFIFOQueue(env, arrival_rate, service_rate, n)\n",
    "    env.run(until=simulation_time)\n"
   ]
  },
  {
   "cell_type": "code",
   "execution_count": 97,
   "metadata": {},
   "outputs": [
    {
     "name": "stdout",
     "output_type": "stream",
     "text": [
      "Customer 1 arrived at 1.1031092715306303\n",
      "[1.1031092715306303]\n",
      "Customer 2 arrived at 1.2700232264634765\n",
      "[1.1031092715306303, 1.2700232264634765]\n",
      "Customer 2 departed at 1.2946491980845236 with wait_time of 0.024625971621047155\n",
      "Customer 3 arrived at 1.3379541421687091\n",
      "[1.2700232264634765, 1.3379541421687091]\n",
      "Customer 1 departed at 1.3621056321428375 with wait_time of 0.25899636061220715\n",
      "Customer 4 arrived at 1.3693797031676418\n",
      "[1.3379541421687091, 1.3693797031676418]\n",
      "Customer 4 departed at 1.4111208007265923 with wait_time of 0.041741097558950495\n",
      "Customer 3 departed at 1.7173676497368666 with wait_time of 0.37941350756815745\n",
      "Customer 5 arrived at 2.986798564406796\n",
      "[2.986798564406796]\n",
      "Customer 5 departed at 3.0565571232605255 with wait_time of 0.06975855885372978\n",
      "Customer 6 arrived at 3.8823950220388235\n",
      "[3.8823950220388235]\n",
      "Customer 7 arrived at 3.9115469834380003\n",
      "[3.8823950220388235, 3.9115469834380003]\n",
      "Customer 8 arrived at 3.9128814111940082\n",
      "[3.8823950220388235, 3.9115469834380003, 3.9128814111940082]\n",
      "Customer 9 arrived at 4.407540208326569\n",
      "[3.8823950220388235, 3.9115469834380003, 3.9128814111940082, 4.407540208326569]\n",
      "Customer 7 departed at 4.435612219748197 with wait_time of 0.5240652363101967\n",
      "Customer 6 departed at 4.510384307035758 with wait_time of 0.6279892849969346\n",
      "Customer 9 departed at 4.626473938001858 with wait_time of 0.1160896309661007\n",
      "Customer 8 departed at 4.934271555842778 with wait_time of 0.4986593360945808\n",
      "Customer 10 arrived at 5.011929219206204\n",
      "[5.011929219206204]\n",
      "Customer 11 arrived at 5.099083820994578\n",
      "[5.011929219206204, 5.099083820994578]\n",
      "Customer 10 departed at 5.240550608593999 with wait_time of 0.228621389387795\n",
      "Customer 11 departed at 5.252173270485574 with wait_time of 0.15308944949099632\n",
      "Customer 12 arrived at 5.664394996315381\n",
      "[5.664394996315381]\n",
      "Customer 12 departed at 5.729598463928885 with wait_time of 0.06520346761350354\n",
      "Customer 13 arrived at 5.968758907217057\n",
      "[5.968758907217057]\n",
      "Customer 14 arrived at 6.133885777182253\n",
      "[5.968758907217057, 6.133885777182253]\n",
      "Customer 15 arrived at 6.145465765436193\n",
      "[5.968758907217057, 6.133885777182253, 6.145465765436193]\n",
      "Customer 13 departed at 6.217731366323999 with wait_time of 0.2489724591069419\n",
      "Customer 15 departed at 6.218463606313192 with wait_time of 0.0007322399891929765\n",
      "Customer 14 departed at 6.241937522153818 with wait_time of 0.10805174497156524\n",
      "Customer 16 arrived at 6.295146865669062\n",
      "[6.295146865669062]\n",
      "Customer 16 departed at 7.437027909500936 with wait_time of 1.1418810438318747\n",
      "Customer 17 arrived at 7.729796425939471\n",
      "[7.729796425939471]\n",
      "Customer 17 departed at 7.905937053908951 with wait_time of 0.17614062796948002\n",
      "Customer 18 arrived at 8.670545516459836\n",
      "[8.670545516459836]\n",
      "Customer 18 departed at 8.772603623842748 with wait_time of 0.10205810738291286\n",
      "Customer 19 arrived at 9.136452859175934\n",
      "[9.136452859175934]\n",
      "Customer 19 departed at 9.495426292924732 with wait_time of 0.35897343374879837\n",
      "Customer 20 arrived at 9.540995541380765\n",
      "[9.540995541380765]\n",
      "Customer 20 departed at 9.693008915949108 with wait_time of 0.15201337456834244\n"
     ]
    }
   ],
   "source": [
    "arrival_rate = 2.0\n",
    "service_rate = 3.0\n",
    "simulation_time = 10.0\n",
    "n = 2\n",
    "\n",
    "run_MMn_FIFO_queue(arrival_rate, service_rate, n, simulation_time)"
   ]
  },
  {
   "cell_type": "markdown",
   "metadata": {},
   "source": [
    "### Statistical significance "
   ]
  },
  {
   "cell_type": "code",
   "execution_count": null,
   "metadata": {},
   "outputs": [],
   "source": []
  },
  {
   "cell_type": "markdown",
   "metadata": {},
   "source": [
    "### Numer of measurements required"
   ]
  },
  {
   "cell_type": "code",
   "execution_count": null,
   "metadata": {},
   "outputs": [],
   "source": []
  },
  {
   "cell_type": "markdown",
   "metadata": {},
   "source": [
    "## DES program that implements shortest job first case for M/M/1"
   ]
  },
  {
   "cell_type": "code",
   "execution_count": 100,
   "metadata": {},
   "outputs": [],
   "source": [
    "class MMnSJFQueue:\n",
    "    def __init__(self, env, arrival_rate, service_rate, n):\n",
    "        self.env = env\n",
    "        self.server = sp.Resource(env, capacity=n)\n",
    "        self.arrival_rate = arrival_rate\n",
    "        self.service_rate = service_rate\n",
    "        self.queue = []\n",
    "\n",
    "        env.process(self.arrive())\n",
    "        \n",
    "\n",
    "    def arrive(self):\n",
    "        customer_count = 0\n",
    "        while True:\n",
    "            inter_arrival_time = random.expovariate(self.arrival_rate)\n",
    "            yield self.env.timeout(inter_arrival_time)\n",
    "            self.queue.append(self.env.now)\n",
    "            customer_count += 1\n",
    "            self.env.process(self.depart(customer_count))\n",
    "            print(f\"Customer {customer_count} arrived at {self.env.now}\")\n",
    "            \n",
    "    def depart(self, customer_count):\n",
    "        print(self.queue)\n",
    "        with self.server.request() as request:\n",
    "            yield request\n",
    "            service_time = random.expovariate(self.service_rate)\n",
    "            yield self.env.timeout(service_time)\n",
    "            self.queue.pop(0)\n",
    "            print(f\"Customer {customer_count} departed at {self.env.now} with wait_time of {service_time}\")\n",
    "\n",
    "\n",
    "def run_MMn_SJF_queue(arrival_rate, service_rate, n, simulation_time):\n",
    "    env = sp.Environment()\n",
    "    mmn_queue = MMnSJFQueue(env, arrival_rate, service_rate, n)\n",
    "    env.run(until=simulation_time)"
   ]
  },
  {
   "cell_type": "code",
   "execution_count": 103,
   "metadata": {},
   "outputs": [
    {
     "name": "stdout",
     "output_type": "stream",
     "text": [
      "Customer 1 arrived at 0.23449934082743867\n",
      "[0.23449934082743867]\n",
      "Customer 2 arrived at 0.28925190164700987\n",
      "[0.23449934082743867, 0.28925190164700987]\n",
      "Customer 1 departed at 0.5114183413944111 with wait_time of 0.2769190005669724\n",
      "Customer 2 departed at 0.9071544431277057 with wait_time of 0.3957361017332945\n",
      "Customer 3 arrived at 1.3211524883747399\n",
      "[1.3211524883747399]\n",
      "Customer 3 departed at 1.4463896364669748 with wait_time of 0.12523714809223496\n",
      "Customer 4 arrived at 1.463001426545343\n",
      "[1.463001426545343]\n",
      "Customer 4 departed at 1.6726856842800935 with wait_time of 0.2096842577347503\n",
      "Customer 5 arrived at 1.7114903502144112\n",
      "[1.7114903502144112]\n",
      "Customer 5 departed at 2.089526411364286 with wait_time of 0.378036061149875\n",
      "Customer 6 arrived at 2.6484784574447224\n",
      "[2.6484784574447224]\n",
      "Customer 7 arrived at 2.7174111130850007\n",
      "[2.6484784574447224, 2.7174111130850007]\n",
      "Customer 6 departed at 2.925563706675346 with wait_time of 0.27708524923062355\n",
      "Customer 7 departed at 2.9559482543198428 with wait_time of 0.030384547644496527\n",
      "Customer 8 arrived at 3.7908107604628105\n",
      "[3.7908107604628105]\n",
      "Customer 9 arrived at 4.213329535794761\n",
      "[3.7908107604628105, 4.213329535794761]\n",
      "Customer 8 departed at 4.258478453417526 with wait_time of 0.4676676929547153\n",
      "Customer 9 departed at 4.850192856863316 with wait_time of 0.5917144034457905\n",
      "Customer 10 arrived at 5.748825495972491\n",
      "[5.748825495972491]\n",
      "Customer 11 arrived at 5.794508826786848\n",
      "[5.748825495972491, 5.794508826786848]\n",
      "Customer 12 arrived at 5.888815574299697\n",
      "[5.748825495972491, 5.794508826786848, 5.888815574299697]\n",
      "Customer 13 arrived at 5.9792566772847815\n",
      "[5.748825495972491, 5.794508826786848, 5.888815574299697, 5.9792566772847815]\n",
      "Customer 10 departed at 6.0197371537425 with wait_time of 0.2709116577700092\n",
      "Customer 14 arrived at 6.3618594617232995\n",
      "[5.794508826786848, 5.888815574299697, 5.9792566772847815, 6.3618594617232995]\n",
      "Customer 15 arrived at 6.809843405603464\n",
      "[5.794508826786848, 5.888815574299697, 5.9792566772847815, 6.3618594617232995, 6.809843405603464]\n",
      "Customer 11 departed at 6.865301951267223 with wait_time of 0.8455647975247235\n",
      "Customer 12 departed at 7.302333158399158 with wait_time of 0.43703120713193494\n",
      "Customer 16 arrived at 7.34720488490708\n",
      "[5.9792566772847815, 6.3618594617232995, 6.809843405603464, 7.34720488490708]\n",
      "Customer 13 departed at 7.866791525444079 with wait_time of 0.5644583670449206\n",
      "Customer 17 arrived at 8.09966262407396\n",
      "[6.3618594617232995, 6.809843405603464, 7.34720488490708, 8.09966262407396]\n",
      "Customer 14 departed at 8.147540349087604 with wait_time of 0.28074882364352666\n",
      "Customer 15 departed at 8.25805002371153 with wait_time of 0.11050967462392434\n",
      "Customer 16 departed at 8.317757546268394 with wait_time of 0.05970752255686462\n",
      "Customer 18 arrived at 8.880799116407324\n",
      "[8.09966262407396, 8.880799116407324]\n",
      "Customer 17 departed at 8.99751151554886 with wait_time of 0.6797539692804654\n",
      "Customer 18 departed at 9.054340727452256 with wait_time of 0.056829211903397486\n",
      "Customer 19 arrived at 9.13622113957425\n",
      "[9.13622113957425]\n",
      "Customer 20 arrived at 9.2123898079388\n",
      "[9.13622113957425, 9.2123898079388]\n",
      "Customer 19 departed at 9.500907121275786 with wait_time of 0.36468598170153593\n",
      "Customer 20 departed at 9.501340161386777 with wait_time of 0.000433040110990302\n"
     ]
    }
   ],
   "source": [
    "arrival_rate = 2.0\n",
    "service_rate = 3.0\n",
    "simulation_time = 10.0\n",
    "n = 1\n",
    "\n",
    "run_MMn_SJF_queue(arrival_rate, service_rate, n, simulation_time)"
   ]
  },
  {
   "cell_type": "markdown",
   "metadata": {},
   "source": [
    "## Different service rate distribution on M/D/n and M/D/1"
   ]
  },
  {
   "cell_type": "code",
   "execution_count": null,
   "metadata": {},
   "outputs": [],
   "source": []
  },
  {
   "cell_type": "markdown",
   "metadata": {},
   "source": [
    "## Long-tail distribution"
   ]
  },
  {
   "cell_type": "code",
   "execution_count": null,
   "metadata": {},
   "outputs": [],
   "source": []
  }
 ],
 "metadata": {
  "kernelspec": {
   "display_name": "Python 3",
   "language": "python",
   "name": "python3"
  },
  "language_info": {
   "codemirror_mode": {
    "name": "ipython",
    "version": 3
   },
   "file_extension": ".py",
   "mimetype": "text/x-python",
   "name": "python",
   "nbconvert_exporter": "python",
   "pygments_lexer": "ipython3",
   "version": "3.10.11"
  }
 },
 "nbformat": 4,
 "nbformat_minor": 2
}
